{
 "cells": [
  {
   "cell_type": "code",
   "execution_count": 4,
   "id": "41c6cb5f-c01b-4810-babd-d6d1f1dd4daf",
   "metadata": {},
   "outputs": [],
   "source": [
    "import numpy as np\n",
    "\n",
    "list_ = [ '1', '2', '3', '4', '5' ]\n",
    "array_list = np.array(object = list_)"
   ]
  },
  {
   "cell_type": "markdown",
   "id": "1bec87d8-f32c-41e2-b55d-e6c98a703380",
   "metadata": {},
   "source": [
    "1. In the code snippet provided, list_ is a Python list that contains string elements, while array_list is a NumPy array that is created from the list_ variable using the np.array() function."
   ]
  },
  {
   "cell_type": "code",
   "execution_count": 5,
   "id": "41631d6c-6646-4166-b881-c5db47a063be",
   "metadata": {},
   "outputs": [
    {
     "name": "stdout",
     "output_type": "stream",
     "text": [
      "<class 'list'>\n",
      "<class 'numpy.ndarray'>\n"
     ]
    }
   ],
   "source": [
    "# print the data types of both variables\n",
    "print(type(list_))\n",
    "print(type(array_list))"
   ]
  },
  {
   "cell_type": "code",
   "execution_count": 12,
   "id": "7fc2a313-3edd-4379-9316-bd9661dbc099",
   "metadata": {},
   "outputs": [
    {
     "name": "stdout",
     "output_type": "stream",
     "text": [
      "<class 'str'>\n",
      "None\n",
      "<class 'str'>\n",
      "None\n",
      "<class 'str'>\n",
      "None\n",
      "<class 'str'>\n",
      "None\n",
      "<class 'str'>\n",
      "None\n",
      "<class 'numpy.str_'>\n",
      "<class 'numpy.str_'>\n",
      "<class 'numpy.str_'>\n",
      "<class 'numpy.str_'>\n",
      "<class 'numpy.str_'>\n"
     ]
    }
   ],
   "source": [
    "2. \n",
    "for i in list_ :\n",
    "    print(print(type(i)))\n",
    "    \n",
    "for i in array_list:\n",
    "    print(type(i))"
   ]
  },
  {
   "cell_type": "code",
   "execution_count": 14,
   "id": "c12699cb-f237-4f51-ae0e-fa46ace2af3d",
   "metadata": {},
   "outputs": [
    {
     "name": "stdout",
     "output_type": "stream",
     "text": [
      "<class 'numpy.int64'>\n",
      "<class 'numpy.int64'>\n",
      "<class 'numpy.int64'>\n",
      "<class 'numpy.int64'>\n",
      "<class 'numpy.int64'>\n"
     ]
    }
   ],
   "source": [
    "3.\n",
    "'''Will there be any difference in the data type of the elements present in both the variables, list_ and\n",
    "arra_list?\n",
    "\n",
    "answer - YES \n",
    "'''\n",
    "array_list = np.array(object = list_, dtype = int)\n",
    "for i in array_list:\n",
    "    print(type(i))"
   ]
  },
  {
   "cell_type": "code",
   "execution_count": 24,
   "id": "81e5c52f-2030-4edf-9214-f28feb0b2d10",
   "metadata": {},
   "outputs": [
    {
     "name": "stdout",
     "output_type": "stream",
     "text": [
      "Shape of num_array = (2, 3)\n",
      "Size of num_array = 6\n"
     ]
    }
   ],
   "source": [
    "4.\n",
    "num_list = [ [ 1 , 2 , 3 ] , [ 4 , 5 , 6 ] ]\n",
    "num_array = np.array(object = num_list)\n",
    "\n",
    "print(f\"Shape of num_array = {num_array.shape}\" )\n",
    "print(f\"Size of num_array = {num_array.size}\")"
   ]
  },
  {
   "cell_type": "code",
   "execution_count": 29,
   "id": "4c018191-73b7-43bc-8ec1-33da65b3760f",
   "metadata": {},
   "outputs": [
    {
     "data": {
      "text/plain": [
       "array([[0., 0., 0.],\n",
       "       [0., 0., 0.],\n",
       "       [0., 0., 0.]])"
      ]
     },
     "execution_count": 29,
     "metadata": {},
     "output_type": "execute_result"
    }
   ],
   "source": [
    "5.\n",
    "np.zeros((3,3))"
   ]
  },
  {
   "cell_type": "code",
   "execution_count": 30,
   "id": "0147cb0e-956d-4b61-9ab0-88bb5bb62146",
   "metadata": {},
   "outputs": [
    {
     "data": {
      "text/plain": [
       "array([[1., 0., 0., 0., 0.],\n",
       "       [0., 1., 0., 0., 0.],\n",
       "       [0., 0., 1., 0., 0.],\n",
       "       [0., 0., 0., 1., 0.],\n",
       "       [0., 0., 0., 0., 1.]])"
      ]
     },
     "execution_count": 30,
     "metadata": {},
     "output_type": "execute_result"
    }
   ],
   "source": [
    "6. \n",
    "np.identity(5)"
   ]
  },
  {
   "cell_type": "code",
   "execution_count": null,
   "id": "f19d5d29-c5cb-4f75-baf1-11b46b64715c",
   "metadata": {},
   "outputs": [],
   "source": []
  }
 ],
 "metadata": {
  "kernelspec": {
   "display_name": "Python 3 (ipykernel)",
   "language": "python",
   "name": "python3"
  },
  "language_info": {
   "codemirror_mode": {
    "name": "ipython",
    "version": 3
   },
   "file_extension": ".py",
   "mimetype": "text/x-python",
   "name": "python",
   "nbconvert_exporter": "python",
   "pygments_lexer": "ipython3",
   "version": "3.10.8"
  }
 },
 "nbformat": 4,
 "nbformat_minor": 5
}
