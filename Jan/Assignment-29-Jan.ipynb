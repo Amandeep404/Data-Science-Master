{
 "cells": [
  {
   "cell_type": "markdown",
   "id": "2a452e76-a443-4d28-90ef-fadd5948b23d",
   "metadata": {},
   "source": [
    "1. Guido van Rossum Developed Python\n",
    "\n",
    "2. Python supports Object-oriented, structured and Functional Programming.\n",
    "\n",
    "3. Yes Python is Case-Sensitive when dealing with identifiers.\n",
    "\n",
    "4. Correct extension for pyhton is .py .\n",
    "\n",
    "5. Identation is used to define a block of code in python.\n",
    "\n",
    "6. Python code is both compiled and interpreted.\n",
    "\n",
    "7. '#' is used to give single-line comments in python.\n",
    "\n",
    "8. sys.version \n",
    "\n",
    "9. lambda\n",
    "\n",
    "10. pip stands for Preferred Installer Program.\n",
    "\n",
    "11. print(), len(), str(), set(), list(), slice(), sorted(), tuple() are some of the built-in-functions in python.\n",
    "\n",
    "12. An Identifier in python can have a maximum length of 79 characters.\n",
    "\n",
    "13. Python has many benefits. It is commonly used for developing websites and software, task automation, data analysis, and data visualization.\n",
    "\n",
    "\n",
    "14. Memory management in Python involves a private heap containing all Python objects and data structures. The management of this private heap is ensured internally by the Python memory manager.\n",
    "\n",
    "15. * Right-clicking This PC and going to Properties.\n",
    "* Clicking on the Advanced system settings in the menu on the left.\n",
    "* Clicking on the Environment Variables button on the bottom right.\n",
    "* In the System variables section, selecting the Path variable and clicking on Edit. The next screen will show all the directories that are currently a part of the PATH variable.\n",
    "* Clicking on New and entering Python’s install directory.\n",
    "* Usually you can find the python installed binary in this path location: C:\\Users\\Educative\\AppData\\Local\\Programs\\Python\\Python39\n",
    "\n",
    "16. Yes,It is very important. Python uses indentation to indicate a block of code.\n"
   ]
  }
 ],
 "metadata": {
  "kernelspec": {
   "display_name": "Python 3 (ipykernel)",
   "language": "python",
   "name": "python3"
  },
  "language_info": {
   "codemirror_mode": {
    "name": "ipython",
    "version": 3
   },
   "file_extension": ".py",
   "mimetype": "text/x-python",
   "name": "python",
   "nbconvert_exporter": "python",
   "pygments_lexer": "ipython3",
   "version": "3.10.8"
  }
 },
 "nbformat": 4,
 "nbformat_minor": 5
}
