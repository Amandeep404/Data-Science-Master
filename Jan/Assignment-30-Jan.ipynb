{
 "cells": [
  {
   "cell_type": "code",
   "execution_count": 9,
   "id": "ea14d762-1a88-4a9e-af13-d01fb626c0ed",
   "metadata": {},
   "outputs": [
    {
     "name": "stdin",
     "output_type": "stream",
     "text": [
      "Enter your Percentage(%):  34\n"
     ]
    },
    {
     "name": "stdout",
     "output_type": "stream",
     "text": [
      "Grade: D\n"
     ]
    }
   ],
   "source": [
    "1.\n",
    "\n",
    "per = int(input(\"Enter your Percentage(%): \"))\n",
    "if per>90: \n",
    "    print(\"Grade: A\")\n",
    "elif per>80 and per<= 90 :\n",
    "    print(\"Grade: B\")\n",
    "elif per > 60 and per<=80 : \n",
    "    print(\"Grade: C\")\n",
    "else : print(\"Grade: D\")"
   ]
  },
  {
   "cell_type": "code",
   "execution_count": 13,
   "id": "1dbf7a7e-8fe5-46ea-a7ec-a4325736e768",
   "metadata": {},
   "outputs": [
    {
     "name": "stdin",
     "output_type": "stream",
     "text": [
      "Enter the price of the bike:  -1000\n"
     ]
    },
    {
     "name": "stdout",
     "output_type": "stream",
     "text": [
      "Tax to be paid: 5%\n"
     ]
    }
   ],
   "source": [
    "2.\n",
    "\n",
    "price = int(input(\"Enter the price of the bike: \"))\n",
    "\n",
    "if price <= 50000 : \n",
    "    print(\"Tax to be paid: 5%\")\n",
    "elif price > 50000 and price <= 100000 :\n",
    "    print(\"Tax to be paid: 10%\")\n",
    "else : print(\"Tax to be paid: 15%\")"
   ]
  },
  {
   "cell_type": "code",
   "execution_count": 14,
   "id": "be794689-ebe5-4ef0-9abf-cc0fc4b9224d",
   "metadata": {},
   "outputs": [
    {
     "name": "stdin",
     "output_type": "stream",
     "text": [
      "Enter the city name:  Delhi\n"
     ]
    },
    {
     "name": "stdout",
     "output_type": "stream",
     "text": [
      "Monument: Red Fort\n"
     ]
    }
   ],
   "source": [
    "3.\n",
    "\n",
    "city = input(\"Enter the city name: \")\n",
    "\n",
    "if city == \"Delhi\" : \n",
    "    print(\"Monument: Red Fort\")\n",
    "elif city == \"Agra\" : \n",
    "    print(\"Monument: Taj Mahal\")\n",
    "elif city == \"Jaipur\" : \n",
    "    print(\"Monument: Jal Mahal\")\n",
    "else : print(\"City data not found\")"
   ]
  },
  {
   "cell_type": "code",
   "execution_count": 22,
   "id": "840432a0-c98d-43e8-96d8-65f5f54738cf",
   "metadata": {},
   "outputs": [
    {
     "name": "stdin",
     "output_type": "stream",
     "text": [
      "Enter the number:  30\n"
     ]
    },
    {
     "name": "stdout",
     "output_type": "stream",
     "text": [
      "30 can be divided 1 times by 3\n"
     ]
    }
   ],
   "source": [
    "4.\n",
    "\n",
    "num = int(input(\"Enter the number: \"))\n",
    "count = 0\n",
    "original_num =  num\n",
    "\n",
    "while num >10: \n",
    "    num = num/3\n",
    "    count += 1\n",
    "print(original_num, \"can be divided\", count, \"times by 3\")"
   ]
  },
  {
   "cell_type": "markdown",
   "id": "d06861c5-2324-439e-acc1-48c4059d90f8",
   "metadata": {},
   "source": [
    "5. The while loop is useful when you don't know beforehand how many times you want to repeat the loop,but you want to keep repeating the loop until some condition is met.\n",
    "\t\n",
    "    example: \n",
    "```\n",
    "count = 0\n",
    "while count < 5:\n",
    "    print(count)\n",
    "    count += 1\n",
    "```\n"
   ]
  },
  {
   "cell_type": "code",
   "execution_count": 55,
   "id": "5052a6d1-5087-4be4-b4cc-25da4e74cf38",
   "metadata": {},
   "outputs": [
    {
     "name": "stdout",
     "output_type": "stream",
     "text": [
      "\n",
      "*\n",
      "**\n",
      "***\n",
      "    * \n",
      "   * * \n",
      "  * * * \n",
      " * * * * \n",
      "* * * * * \n",
      " * * * * * \n",
      "  * * * * \n",
      "   * * * \n",
      "    * * \n",
      "     * \n"
     ]
    }
   ],
   "source": [
    "'''6.Right-angled Triangle pattern'''\n",
    "\n",
    "rows = 5\n",
    "i=1\n",
    "\n",
    "while i<rows : \n",
    "    j = 1\n",
    "    while j < i :\n",
    "        print(\"*\",end =\"\")\n",
    "        j+=1\n",
    "    print()\n",
    "    i+=1\n",
    "    \n",
    "\"\"\"Normal Triangle Pattern\"\"\"\n",
    "rows = 5\n",
    "i = 1\n",
    "while i <= rows:\n",
    "    j = 1\n",
    "    while j <= (rows - i):\n",
    "        print(end=\" \")\n",
    "        j += 1\n",
    "    k = 1\n",
    "    while k <= i:\n",
    "        print(\"* \", end=\"\")\n",
    "        k += 1\n",
    "    print()\n",
    "    i += 1\n",
    "    \n",
    "\"\"\"Inverted Triangle Pattern\"\"\"\n",
    "i = 1\n",
    "while i <= rows:\n",
    "    j = 1\n",
    "    while j <= i:\n",
    "        print(end=\" \")\n",
    "        j += 1\n",
    "    k = 1\n",
    "    while k <= (rows - i + 1):\n",
    "        print(\"* \", end=\"\")\n",
    "        k += 1\n",
    "    print()\n",
    "    i += 1\n",
    "   "
   ]
  },
  {
   "cell_type": "code",
   "execution_count": 56,
   "id": "761a5186-eb85-4606-b2c1-f8536f7dd067",
   "metadata": {},
   "outputs": [
    {
     "name": "stdout",
     "output_type": "stream",
     "text": [
      "10\n",
      "9\n",
      "8\n",
      "7\n",
      "6\n",
      "5\n",
      "4\n",
      "3\n",
      "2\n",
      "1\n"
     ]
    }
   ],
   "source": [
    "7. \n",
    "\n",
    "num = 10\n",
    "while num > 0:\n",
    "    print(num)\n",
    "    num-=1"
   ]
  },
  {
   "cell_type": "code",
   "execution_count": 57,
   "id": "b9e4cacb-393e-4fd0-b98c-f2fdd7c8ed06",
   "metadata": {},
   "outputs": [
    {
     "name": "stdout",
     "output_type": "stream",
     "text": [
      "10\n",
      "9\n",
      "8\n",
      "7\n",
      "6\n",
      "5\n",
      "4\n",
      "3\n",
      "2\n",
      "1\n"
     ]
    }
   ],
   "source": [
    "8. \n",
    "\n",
    "num = 10\n",
    "while num > 0:\n",
    "    print(num)\n",
    "    num-=1"
   ]
  },
  {
   "cell_type": "code",
   "execution_count": null,
   "id": "4368d269-523b-4113-9bc0-47fa1308168f",
   "metadata": {},
   "outputs": [],
   "source": []
  }
 ],
 "metadata": {
  "kernelspec": {
   "display_name": "Python 3 (ipykernel)",
   "language": "python",
   "name": "python3"
  },
  "language_info": {
   "codemirror_mode": {
    "name": "ipython",
    "version": 3
   },
   "file_extension": ".py",
   "mimetype": "text/x-python",
   "name": "python",
   "nbconvert_exporter": "python",
   "pygments_lexer": "ipython3",
   "version": "3.10.8"
  }
 },
 "nbformat": 4,
 "nbformat_minor": 5
}
