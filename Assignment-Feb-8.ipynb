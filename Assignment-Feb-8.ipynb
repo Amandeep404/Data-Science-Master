{
 "cells": [
  {
   "cell_type": "markdown",
   "id": "05e34ed4-786e-4a63-a763-7384b84280b5",
   "metadata": {},
   "source": [
    "1. Abstraction is the process of hiding unnecessary implementations details from the user while showing only the relevant and essential information to the user.\n",
    "\n",
    "For example, consider a car. A user does not need to know the intricate details of the car's internal combustion engine, its gear shifting mechanism, or its suspension system. Instead, the user only needs to know how to drive the car using the steering wheel, accelerator, and brake pedals. In this case, the car is an abstraction of the complex machinery that powers it, and the user interacts with the car through its simplified interface, without worrying about the internal workings of the car."
   ]
  },
  {
   "cell_type": "markdown",
   "id": "65507f71-ed4b-41a7-a925-d6bd9eca2a70",
   "metadata": {},
   "source": [
    "2. \n",
    "Encapsulation, on the other hand, refers to the process of wrapping the data and code that operates on the data into a single unit, such that the internal workings of the object are hidden from the outside world. It is achieved by using access modifiers like public, private, and protected to control the access to the object's internal state and behavior.\n",
    "\n",
    "Where as on the other side Abstraction refers to the process of hiding unnecessary implementation details while showing only the relevant and essential information to the user. It is achieved by creating an abstract representation of an object or a system that captures only the relevant information and hides the rest.\n",
    "\n",
    "For example, consider a class that represents a bank account. Abstraction for this class would mean creating an abstract representation of the account that only exposes the necessary methods for performing transactions, such as deposit, withdrawal, and balance inquiry, while hiding the underlying implementation details, such as the database and the network connection."
   ]
  },
  {
   "cell_type": "markdown",
   "id": "f3d4a58d-2f9e-484f-9ce5-f539882b8480",
   "metadata": {},
   "source": [
    "3. \n",
    "The \"abc\" module in Python stands for \"Abstract Base Classes\". It is a built-in module in Python that provides a way to define abstract classes in Python.\n",
    "\n",
    "The \"abc\" module is used for several reasons in Python, including:\n",
    "\n",
    "* Providing a way to define and enforce interfaces - Abstract classes can be used to define the interface that a class should implement. This helps in creating more reliable code, as it ensures that the classes that use the interface are implementing it correctly.\n",
    "\n",
    "* Enforcing class hierarchy - Abstract classes can be used to enforce a specific class hierarchy. By defining abstract classes at the top of the hierarchy, you can ensure that all classes that inherit from it implement the required behavior.\n",
    "\n",
    "* Providing a way to write more generic code - By using abstract classes, you can write more generic code that works with different types of objects, as long as they implement the required behavior."
   ]
  },
  {
   "cell_type": "markdown",
   "id": "3837cee9-358d-4242-b6a0-921f80f9e65f",
   "metadata": {},
   "source": [
    "4. In Python, we can achieve data abstraction by using classes and implementing methods that interact with the class attributes, but hide the internal implementation details from the user of the class\n"
   ]
  },
  {
   "cell_type": "code",
   "execution_count": 7,
   "id": "5b668044-7fdc-45ef-abb7-87740d51da45",
   "metadata": {},
   "outputs": [
    {
     "data": {
      "text/plain": [
       "0"
      ]
     },
     "execution_count": 7,
     "metadata": {},
     "output_type": "execute_result"
    }
   ],
   "source": [
    "# How can we achieve data abstraction?\n",
    "#ANS - Here is an example : \n",
    "\n",
    "class car:\n",
    "    def __init__(self, company, model, year):\n",
    "    \tself.company = company\n",
    "    \tself.model = model\n",
    "    \tself.year = year\n",
    "    \tself.__meter = 0\n",
    "      \n",
    "    def drive(self, distance):\n",
    "        self.__meter += distance\n",
    "       \n",
    "    def get_distance_covered(self):\n",
    "        return self.__meter\n",
    "\n",
    "my_car = car(\"Audi\", \"a8\", 2008)\n",
    "my_car.get_distance_covered()"
   ]
  },
  {
   "cell_type": "code",
   "execution_count": 8,
   "id": "17c019a1-3e86-415e-96c1-8235c69c9fcb",
   "metadata": {},
   "outputs": [],
   "source": [
    "my_car.drive(300)"
   ]
  },
  {
   "cell_type": "code",
   "execution_count": 9,
   "id": "df760eea-0a2d-4ad4-9a18-ce1ff28c6019",
   "metadata": {},
   "outputs": [
    {
     "data": {
      "text/plain": [
       "300"
      ]
     },
     "execution_count": 9,
     "metadata": {},
     "output_type": "execute_result"
    }
   ],
   "source": [
    "my_car.get_distance_covered()"
   ]
  },
  {
   "cell_type": "markdown",
   "id": "5805e47d-8655-4406-ba7a-9fbb028d9a18",
   "metadata": {},
   "source": [
    "5. Can we create an instance of an abstract class? Explain your answer.\n",
    "\n",
    "No we cannot create an instance of an abstract class. An abstract class is a class that cannot be instantiated, meaning we cannot create objects of the abstract class directly.\n",
    "\n",
    "Here's an example of an abstract class in Python:\n",
    "```\n",
    "from abc import ABC, abstractmethod\n",
    "\n",
    "class Animal(ABC):\n",
    "    @abstractmethod\n",
    "    def move(self):\n",
    "        pass\n",
    "    \n",
    "class Dog(Animal):\n",
    "    def move(self):\n",
    "        print(\"The dog is running.\")\n",
    "        \n",
    "class Fish(Animal):\n",
    "    def move(self):\n",
    "        print(\"The fish is swimming.\")\n",
    "\n",
    "```\n",
    "\n",
    "We cannot create an instance of the Animal abstract class directly, but we can create instances of its concrete subclasses, such as Dog and Fish. When we call the move() method on an instance of Dog or Fish, it executes the implementation defined in the respective subclass."
   ]
  },
  {
   "cell_type": "code",
   "execution_count": null,
   "id": "5b38d33d-f570-4dbe-a1ca-6c4cdba093cb",
   "metadata": {},
   "outputs": [],
   "source": []
  }
 ],
 "metadata": {
  "kernelspec": {
   "display_name": "Python 3 (ipykernel)",
   "language": "python",
   "name": "python3"
  },
  "language_info": {
   "codemirror_mode": {
    "name": "ipython",
    "version": 3
   },
   "file_extension": ".py",
   "mimetype": "text/x-python",
   "name": "python",
   "nbconvert_exporter": "python",
   "pygments_lexer": "ipython3",
   "version": "3.10.8"
  }
 },
 "nbformat": 4,
 "nbformat_minor": 5
}
