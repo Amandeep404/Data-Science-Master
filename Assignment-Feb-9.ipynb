{
 "cells": [
  {
   "cell_type": "markdown",
   "id": "53a9c7b2-ab79-4127-8ad9-e301715d0db2",
   "metadata": {},
   "source": [
    "1. # Create a vehicle class with an init method having instance variables as name_of_vehicle, max_speed\n",
    "#and average_of_vehicle."
   ]
  },
  {
   "cell_type": "code",
   "execution_count": 10,
   "id": "ccbfba5f-9f75-4103-9e62-7de04b2122b4",
   "metadata": {},
   "outputs": [],
   "source": [
    "class vehichle:\n",
    "    def __init__(self, name_of_vehicle, max_speed,average_of_vehicle):\n",
    "        self.vehichle = name_of_vehicle\n",
    "        self.speed = max_speed\n",
    "        self.avg = average_of_vehicle\n",
    "       \n",
    "    def vehichle_details(self):\n",
    "        print(\"Name of Vehichle:\", self.vehichle)\n",
    "        print(\"Max speed:\", self.speed)\n",
    "        print(\"Average of Vehichle:\", self.avg)"
   ]
  },
  {
   "cell_type": "code",
   "execution_count": 15,
   "id": "41aeba93-cbc3-42f8-a3ae-254046a8ea3f",
   "metadata": {},
   "outputs": [
    {
     "name": "stdout",
     "output_type": "stream",
     "text": [
      "Name of Vehichle: Ford\n",
      "Max speed: 200\n",
      "Average of Vehichle: 34 kmpl\n"
     ]
    }
   ],
   "source": [
    "truck = vehichle(\"Ford\", 200, \"34 kmpl\")\n",
    "truck.vehichle_details()"
   ]
  },
  {
   "cell_type": "code",
   "execution_count": 29,
   "id": "ea2a36f8-3b3c-4ce7-a175-91c49effeed6",
   "metadata": {},
   "outputs": [],
   "source": [
    "2. \n",
    "class car(vehichle):\n",
    "    def seating_capacity(self,capacity):\n",
    "        return \"Name of vehichle:\", self.vehichle, \"Capacity: \",capacity"
   ]
  },
  {
   "cell_type": "code",
   "execution_count": 30,
   "id": "5fef51cc-ca7b-4516-a607-c4e1f48e8f88",
   "metadata": {},
   "outputs": [
    {
     "data": {
      "text/plain": [
       "('Name of vehichle:', 'jeep', 'Capacity: ', 4)"
      ]
     },
     "execution_count": 30,
     "metadata": {},
     "output_type": "execute_result"
    }
   ],
   "source": [
    "jeep = car(\"jeep\", 200, \"20 kmpl\")\n",
    "jeep.seating_capacity(4)"
   ]
  },
  {
   "cell_type": "markdown",
   "id": "fa08a315-0581-44c5-a9a4-b7d2c5c4fe2d",
   "metadata": {},
   "source": [
    "3. Multiple inheritance is a feature of object-oriented programming that allows a class to inherit from multiple parent classes. In other words, a child class can inherit attributes and methods from more than one parent class."
   ]
  },
  {
   "cell_type": "code",
   "execution_count": 31,
   "id": "fca9ba4f-4931-4ab7-991b-f07169fe76e9",
   "metadata": {},
   "outputs": [
    {
     "data": {
      "text/plain": [
       "'This is class 1 '"
      ]
     },
     "execution_count": 31,
     "metadata": {},
     "output_type": "execute_result"
    }
   ],
   "source": [
    "# Example of multiple Inheritance\n",
    "class class1 : \n",
    "    def test_class1(self) :\n",
    "            return \"This is class 1 \"\n",
    "class class2 : \n",
    "    def test_class2(self) : \n",
    "        return \"This is class 2 \"\n",
    "    \n",
    "class class3(class1, class2 ) : \n",
    "    pass\n",
    "\n",
    "class_obj =  class3()\n",
    "class_obj.test_class1()"
   ]
  },
  {
   "cell_type": "markdown",
   "id": "350710d2-4bdd-481d-a100-600b45165e87",
   "metadata": {},
   "source": [
    "4. In Python, a getter is a method that returns the value of a private attribute of a class, while a setter is a method that sets the value of a private attribute of a class. The use of getters and setters is a way to encapsulate the data in a class and provide a level of abstraction between the class and the outside world."
   ]
  },
  {
   "cell_type": "code",
   "execution_count": 43,
   "id": "e31b5dd3-452f-488c-8847-eee31fa6944e",
   "metadata": {},
   "outputs": [
    {
     "name": "stdout",
     "output_type": "stream",
     "text": [
      "19\n"
     ]
    },
    {
     "data": {
      "text/plain": [
       "23"
      ]
     },
     "execution_count": 43,
     "metadata": {},
     "output_type": "execute_result"
    }
   ],
   "source": [
    "#Create a class and create a getter and a setter method in this class.\n",
    "\n",
    "class person:\n",
    "    def __init__(self, name, age):\n",
    "        self.name = name\n",
    "        self._age = age\n",
    "       \n",
    "    def get_age(self):\n",
    "        return self._age\n",
    "    \n",
    "    def set_age(self, age):\n",
    "        if age < 0:\n",
    "            raise ValueError(\"Age cannot be negative\")\n",
    "        self._age = age    \n",
    "        \n",
    "      \n",
    "aman = person(\"Amandeep\", 19)\n",
    "print(aman.get_age())\n",
    "\n",
    "aman.set_age(23)\n",
    "aman.get_age()"
   ]
  },
  {
   "cell_type": "markdown",
   "id": "43ef636d-e8cc-4a1b-886f-8c102a40aeea",
   "metadata": {},
   "source": [
    "5. Method overriding is a concept in object-oriented programming where a subclass provides a specific implementation of a method that is already defined in its superclass. The method in the subclass overrides the implementation of the method in the superclass."
   ]
  },
  {
   "cell_type": "code",
   "execution_count": 1,
   "id": "bf05c5d0-a7bc-4e47-b1b8-4ebca8b9d89b",
   "metadata": {},
   "outputs": [
    {
     "name": "stdout",
     "output_type": "stream",
     "text": [
      "The animal makes a sound\n",
      "The dog barks\n",
      "The cat meows\n"
     ]
    }
   ],
   "source": [
    "class Animal:\n",
    "    def make_sound(self):\n",
    "        print(\"The animal makes a sound\")\n",
    "\n",
    "class Dog(Animal):\n",
    "    def make_sound(self):\n",
    "        print(\"The dog barks\")\n",
    "\n",
    "class Cat(Animal):\n",
    "    def make_sound(self):\n",
    "        print(\"The cat meows\")\n",
    "\n",
    "# create instances of the classes\n",
    "animal = Animal()\n",
    "dog = Dog()\n",
    "cat = Cat()\n",
    "\n",
    "# call the make_sound() method on each object\n",
    "animal.make_sound() # output: \"The animal makes a sound\"\n",
    "dog.make_sound() # output: \"The dog barks\"\n",
    "cat.make_sound() # output: \"The cat meows\"\n"
   ]
  },
  {
   "cell_type": "code",
   "execution_count": null,
   "id": "b07db9d8-cfd2-46b1-a93b-7c3c967298bd",
   "metadata": {},
   "outputs": [],
   "source": []
  }
 ],
 "metadata": {
  "kernelspec": {
   "display_name": "Python 3 (ipykernel)",
   "language": "python",
   "name": "python3"
  },
  "language_info": {
   "codemirror_mode": {
    "name": "ipython",
    "version": 3
   },
   "file_extension": ".py",
   "mimetype": "text/x-python",
   "name": "python",
   "nbconvert_exporter": "python",
   "pygments_lexer": "ipython3",
   "version": "3.10.8"
  }
 },
 "nbformat": 4,
 "nbformat_minor": 5
}
