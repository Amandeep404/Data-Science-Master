{
 "cells": [
  {
   "cell_type": "markdown",
   "id": "d28ff838-83ab-4664-9175-a8b9bc4d1031",
   "metadata": {},
   "source": [
    "Q1. Which keyword is used to create a function? Create a function to return a list of odd numbers in the\n",
    "range of 1 to 25.\n",
    "\n",
    "Answer : 'def' keyword is used to create a function"
   ]
  },
  {
   "cell_type": "code",
   "execution_count": 9,
   "id": "572a421d-edd7-4a45-a0a9-a192e6255dc6",
   "metadata": {},
   "outputs": [
    {
     "name": "stdout",
     "output_type": "stream",
     "text": [
      "1\n",
      "3\n",
      "5\n",
      "7\n",
      "9\n",
      "11\n",
      "13\n",
      "15\n",
      "17\n",
      "19\n",
      "21\n",
      "23\n",
      "25\n"
     ]
    }
   ],
   "source": [
    "def odd_numbers():\n",
    "    for i in range(1,26,2):\n",
    "        \n",
    "        print(i)\n",
    "\n",
    "odd_numbers()\n",
    "        "
   ]
  },
  {
   "cell_type": "markdown",
   "id": "f28d0333-717d-4aad-9184-82ee8eb3be1a",
   "metadata": {},
   "source": [
    "Q2. Why *args and **kwargs is used in some functions? Create a function each for *args and **kwargs\n",
    "to demonstrate their use.\n",
    "\n",
    "Answer : \n",
    "`*args` is used to pass a non-keyworded, variable-length argument list to the function. When the function is called, *args collects all the extra arguments and packages them into a tuple.\n",
    "\n",
    "`**kwargs` is used to pass keyworded, variable-length argument list to the function. When the function is called, **kwargs collects all the extra keyword arguments and packages them into a dictionary."
   ]
  },
  {
   "cell_type": "code",
   "execution_count": 19,
   "id": "e7a13965-ac0c-4a2d-99d8-de6bf5e4c7bf",
   "metadata": {},
   "outputs": [
    {
     "name": "stdout",
     "output_type": "stream",
     "text": [
      "This is the *args value: (1, 2, 'g', 'r', 4)\n",
      "This is the **kwargs value: {'name': 'Amandeep', 'title': 'Singh'}\n"
     ]
    }
   ],
   "source": [
    "def my_fun(*args, **kwargs):\n",
    "    print(\"This is the *args value:\", args)\n",
    "    print(\"This is the **kwargs value:\", kwargs)\n",
    "    \n",
    "my_fun(1,2,'g','r',4, name=\"Amandeep\", title=\"Singh\")"
   ]
  },
  {
   "cell_type": "markdown",
   "id": "1a016d75-cdc5-4d44-9062-ddc051d3ace5",
   "metadata": {},
   "source": [
    "Q3. What is an iterator in python? Name the method used to initialise the iterator object and the method\n",
    "used for iteration. Use these methods to print the first five elements of the given list [2, 4, 6, 8, 10, 12, 14,\n",
    "16, 18, 20].\n",
    "\n",
    "\n",
    "Answers : \n",
    "\n",
    "An iterator in Python is an object that can be iterated (looped) upon. An object which will return data, one element at a time when used in a for loop.\n",
    "The built-in `iter()` function is used to initialize the iterator object.\n",
    "The `next()` method is used for iteration"
   ]
  },
  {
   "cell_type": "code",
   "execution_count": 22,
   "id": "bfa6a951-ce19-42e4-b925-1937ff4aa6ef",
   "metadata": {},
   "outputs": [
    {
     "name": "stdout",
     "output_type": "stream",
     "text": [
      "2\n",
      "4\n",
      "6\n",
      "8\n",
      "10\n"
     ]
    }
   ],
   "source": [
    "#To print the first five elements of the given list [2, 4, 6, 8, 10, 12, 14, 16, 18, 20].\n",
    "\n",
    "l = [2, 4, 6, 8, 10, 12, 14, 16, 18, 20]\n",
    "var = iter(l)\n",
    "for i in range(5):\n",
    "    print(next(var))"
   ]
  },
  {
   "cell_type": "markdown",
   "id": "99aa6750-07da-41dd-9675-bb1619bfa996",
   "metadata": {},
   "source": [
    "Answer 4. \n",
    "In Python, a `generator function`is a special type of function that can be used to create an iterator. An iterator is an object that allows you to iterate through a sequence of values, one at a time, without loading the entire sequence into memory at once.\n",
    "\n",
    "The `yield` keyword is used to return a value from the generator function and to temporarily suspend the execution of the function, so that it can be resumed from where it left off the next time when `next()` is called."
   ]
  },
  {
   "cell_type": "code",
   "execution_count": 3,
   "id": "93db7e50-ebf1-400b-b63a-ddfa92d92c5e",
   "metadata": {},
   "outputs": [
    {
     "name": "stdout",
     "output_type": "stream",
     "text": [
      "0\n",
      "1\n",
      "1\n",
      "2\n",
      "3\n",
      "5\n",
      "8\n"
     ]
    }
   ],
   "source": [
    "# Example of generator function : \n",
    "def find_fibonacci(n):\n",
    "    a, b = 0, 1\n",
    "    for i in range(n):\n",
    "        yield a\n",
    "        a, b = b, a + b\n",
    "\n",
    "for i in find_fibonacci(7):\n",
    "    print(i)\n"
   ]
  },
  {
   "cell_type": "code",
   "execution_count": 2,
   "id": "52951a89-453b-451d-a24a-0127f881fa31",
   "metadata": {},
   "outputs": [
    {
     "name": "stdout",
     "output_type": "stream",
     "text": [
      "2\n",
      "3\n",
      "5\n",
      "7\n",
      "11\n",
      "13\n",
      "17\n",
      "19\n",
      "23\n",
      "29\n",
      "31\n",
      "37\n",
      "41\n",
      "43\n",
      "47\n",
      "53\n",
      "59\n",
      "61\n",
      "67\n",
      "71\n"
     ]
    }
   ],
   "source": [
    "def generate_prime_number():\n",
    "    n = 2\n",
    "    while n < 1001:\n",
    "        is_prime = True\n",
    "        for i in range(2, int(n**0.5) + 1):\n",
    "                if n%i==0:\n",
    "                    is_prime = False\n",
    "                    break\n",
    "        if is_prime :\n",
    "            yield n\n",
    "        n+=1\n",
    "                    \n",
    "num = generate_prime_number()\n",
    "for i in range(20):\n",
    "    prime = next(num)\n",
    "    print(prime)\n",
    "    \n"
   ]
  },
  {
   "cell_type": "code",
   "execution_count": 25,
   "id": "163e0350-f0c6-4489-9140-776999e32f43",
   "metadata": {},
   "outputs": [
    {
     "name": "stdout",
     "output_type": "stream",
     "text": [
      "0\n",
      "1\n",
      "1\n",
      "2\n",
      "3\n",
      "5\n",
      "8\n",
      "13\n",
      "21\n",
      "34\n"
     ]
    }
   ],
   "source": [
    "#Q6. Write a python program to print the first 10 Fibonacci numbers using a while loop.\n",
    "\n",
    "n = 10\n",
    "a, b = 0 ,1\n",
    "while n>0:\n",
    "        print(a)\n",
    "        a ,b = b,  a + b\n",
    "        n-=1\n",
    "\n",
    "        "
   ]
  },
  {
   "cell_type": "code",
   "execution_count": 26,
   "id": "084cfafb-141f-4054-b3c5-2c14a0724bdb",
   "metadata": {},
   "outputs": [
    {
     "data": {
      "text/plain": [
       "['p', 'w', 's', 'k', 'i', 'l', 'l', 's']"
      ]
     },
     "execution_count": 26,
     "metadata": {},
     "output_type": "execute_result"
    }
   ],
   "source": [
    "# Q7. Write a List Comprehension to iterate through the given string: ‘pwskills’.\n",
    "\n",
    "s = 'pwskills'\n",
    "[i for i in s ]"
   ]
  },
  {
   "cell_type": "code",
   "execution_count": 8,
   "id": "2eeabcaf-e42f-4f76-8a0d-2bcf7c6f5886",
   "metadata": {},
   "outputs": [
    {
     "name": "stdin",
     "output_type": "stream",
     "text": [
      "Enter number:  233\n"
     ]
    },
    {
     "name": "stdout",
     "output_type": "stream",
     "text": [
      "233 is not palindrome\n"
     ]
    }
   ],
   "source": [
    "#Q8. Write a python program to check whether a given number is Palindrome or not using a while loop.\n",
    "\n",
    "num = int(input(\"Enter number: \"))\n",
    "temp = num\n",
    "reverse_num = 0\n",
    "while temp>0:\n",
    "    last_digit = temp%10\n",
    "    reverse_num = reverse_num*10 + last_digit\n",
    "    temp //=10\n",
    "\n",
    "if num == reverse_num:\n",
    "    print(num, \"is Palindrome\")\n",
    "else : \n",
    "    print(num, \"is not palindrome\")\n",
    "    \n",
    "    "
   ]
  },
  {
   "cell_type": "code",
   "execution_count": 19,
   "id": "c526e90a-a42e-40d5-8b04-37d30851af48",
   "metadata": {},
   "outputs": [
    {
     "data": {
      "text/plain": [
       "[1,\n",
       " 3,\n",
       " 5,\n",
       " 7,\n",
       " 9,\n",
       " 11,\n",
       " 13,\n",
       " 15,\n",
       " 17,\n",
       " 19,\n",
       " 21,\n",
       " 23,\n",
       " 25,\n",
       " 27,\n",
       " 29,\n",
       " 31,\n",
       " 33,\n",
       " 35,\n",
       " 37,\n",
       " 39,\n",
       " 41,\n",
       " 43,\n",
       " 45,\n",
       " 47,\n",
       " 49,\n",
       " 51,\n",
       " 53,\n",
       " 55,\n",
       " 57,\n",
       " 59,\n",
       " 61,\n",
       " 63,\n",
       " 65,\n",
       " 67,\n",
       " 69,\n",
       " 71,\n",
       " 73,\n",
       " 75,\n",
       " 77,\n",
       " 79,\n",
       " 81,\n",
       " 83,\n",
       " 85,\n",
       " 87,\n",
       " 89,\n",
       " 91,\n",
       " 93,\n",
       " 95,\n",
       " 97,\n",
       " 99]"
      ]
     },
     "execution_count": 19,
     "metadata": {},
     "output_type": "execute_result"
    }
   ],
   "source": [
    "#Q9. Write a code to print odd numbers from 1 to 100 using list comprehension.\n",
    "\n",
    "l = [i for i in range(1,101)]\n",
    "[i for i in l if i%2!=0]"
   ]
  },
  {
   "cell_type": "code",
   "execution_count": 13,
   "id": "2a40ef43-1fc0-4cd2-8dfd-c45887776461",
   "metadata": {},
   "outputs": [],
   "source": []
  },
  {
   "cell_type": "code",
   "execution_count": null,
   "id": "69374af7-58c0-4954-884e-bff15d86f31d",
   "metadata": {},
   "outputs": [],
   "source": []
  }
 ],
 "metadata": {
  "kernelspec": {
   "display_name": "Python 3 (ipykernel)",
   "language": "python",
   "name": "python3"
  },
  "language_info": {
   "codemirror_mode": {
    "name": "ipython",
    "version": 3
   },
   "file_extension": ".py",
   "mimetype": "text/x-python",
   "name": "python",
   "nbconvert_exporter": "python",
   "pygments_lexer": "ipython3",
   "version": "3.10.8"
  }
 },
 "nbformat": 4,
 "nbformat_minor": 5
}
