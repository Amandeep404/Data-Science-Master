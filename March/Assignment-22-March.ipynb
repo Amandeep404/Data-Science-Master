{
 "cells": [
  {
   "cell_type": "code",
   "execution_count": 2,
   "id": "a53332a8-7d60-41c2-8d80-658d63b5a2fb",
   "metadata": {},
   "outputs": [],
   "source": [
    "import pandas as pd\n",
    "import numpy as np"
   ]
  },
  {
   "cell_type": "markdown",
   "id": "24af02da-c439-48dd-8694-3d16cc489d5f",
   "metadata": {},
   "source": [
    "### Q1. Pearson correlation coefficient is a measure of the linear relationship between two variables. Suppose you have collected data on the amount of time students spend studying for an exam and their final exam scores. Calculate the Pearson correlation coefficient between these two variables and interpret the result."
   ]
  },
  {
   "cell_type": "code",
   "execution_count": 32,
   "id": "bc17afe7-9ab3-4493-a668-4762e7d6886b",
   "metadata": {},
   "outputs": [
    {
     "data": {
      "text/plain": [
       "0.9705592433242528"
      ]
     },
     "execution_count": 32,
     "metadata": {},
     "output_type": "execute_result"
    }
   ],
   "source": [
    "# Example data: Replace these with your actual data\n",
    "\n",
    "data = {\n",
    "    'study_time': [10, 15, 8, 12, 6, 18, 14, 9],\n",
    "    'final_scores': [85, 92, 78, 88, 72, 95, 90, 80]\n",
    "}\n",
    "\n",
    "df = pd.DataFrame(data)\n",
    "\n",
    "# Calculate the Pearson correlation coefficient\n",
    "df['study_time'].corr(df['final_scores'])\n"
   ]
  },
  {
   "cell_type": "markdown",
   "id": "407567b8-4deb-406a-a1e7-58b37425a7ec",
   "metadata": {},
   "source": [
    "### Q2. Spearman's rank correlation is a measure of the monotonic relationship between two variables. Suppose you have collected data on the amount of sleep individuals get each night and their overall job satisfaction level on a scale of 1 to 10. Calculate the Spearman's rank correlation between these two variables and interpret the result."
   ]
  },
  {
   "cell_type": "code",
   "execution_count": 34,
   "id": "f8afeb02-292d-44d0-b020-1857d6669689",
   "metadata": {},
   "outputs": [],
   "source": [
    "data = [\n",
    "    {\"person\": \"A\", \"sleep_hours\": 7, \"job_satisfaction\": 8},\n",
    "    {\"person\": \"B\", \"sleep_hours\": 6, \"job_satisfaction\": 6},\n",
    "    {\"person\": \"C\", \"sleep_hours\": 8, \"job_satisfaction\": 9},\n",
    "    {\"person\": \"D\", \"sleep_hours\": 5, \"job_satisfaction\": 4},\n",
    "    {\"person\": \"E\", \"sleep_hours\": 7, \"job_satisfaction\": 7},\n",
    "    {\"person\": \"F\", \"sleep_hours\": 6.5, \"job_satisfaction\": 6},\n",
    "    {\"person\": \"G\", \"sleep_hours\": 8, \"job_satisfaction\": 9},\n",
    "    {\"person\": \"H\", \"sleep_hours\": 5.5, \"job_satisfaction\": 3},\n",
    "    {\"person\": \"I\", \"sleep_hours\": 7.5, \"job_satisfaction\": 8},\n",
    "    {\"person\": \"J\", \"sleep_hours\": 6, \"job_satisfaction\": 5}\n",
    "]"
   ]
  },
  {
   "cell_type": "code",
   "execution_count": 35,
   "id": "056a3755-c767-4c6c-aff8-bd1b5c5d876f",
   "metadata": {},
   "outputs": [
    {
     "data": {
      "text/plain": [
       "0.9691358024691357"
      ]
     },
     "execution_count": 35,
     "metadata": {},
     "output_type": "execute_result"
    }
   ],
   "source": [
    "df = pd.DataFrame(data)\n",
    "\n",
    "df['sleep_hours'].corr(df['job_satisfaction'],method = 'spearman')"
   ]
  },
  {
   "cell_type": "markdown",
   "id": "2c39734c-2d5d-4ea2-9c78-d43c2ccb4880",
   "metadata": {},
   "source": [
    "### Q3. Suppose you are conducting a study to examine the relationship between the number of hours of exercise per week and body mass index (BMI) in a sample of adults. You collected data on both variables for 50 participants. Calculate the Pearson correlation coefficient and the Spearman's rank correlation between these two variables and compare the results."
   ]
  },
  {
   "cell_type": "code",
   "execution_count": 36,
   "id": "a3f61ee8-5805-4ed9-9058-4bd862d971d9",
   "metadata": {},
   "outputs": [
    {
     "name": "stdout",
     "output_type": "stream",
     "text": [
      "Pearson Correlation Coefficient: 0.3943651237577548\n",
      "Spearman's Rank Correlation: 0.32528782684529817\n"
     ]
    }
   ],
   "source": [
    "data = {\n",
    "    'exercise_hours': [3, 5, 2, 4, 6, 1, 2.5, 4.5, 3.5, 5, 2, 4, 6, 1, 2.5, 4.5, 3.5, 5, 2, 4, 6, 1, 2.5, 4.5, 3.5, 5, 2, 4, 6, 1, 2.5, 4.5, 3.5, 5, 2, 4, 6, 1, 2.5, 4.5, 3.5, 5, 2, 4, 6, 1, 2.5, 4.5, 3.5],\n",
    "    'bmi': [23, 25, 28, 22, 30, 21, 24, 26, 27, 25, 29, 22, 28, 21, 24, 26, 27, 25, 29, 22, 28, 21, 24, 26, 27, 25, 29, 22, 28, 21, 24, 26, 27, 25, 29, 22, 28, 21, 24, 26, 27, 25, 29, 22, 28, 21, 24, 26, 27]\n",
    "}\n",
    "\n",
    "df = pd.DataFrame(data)\n",
    "\n",
    "# Calculate Pearson correlation coefficient\n",
    "pearson_corr = df['exercise_hours'].corr(df['bmi'], method='pearson')\n",
    "\n",
    "# Calculate Spearman's rank correlation coefficient\n",
    "spearman_corr = df['exercise_hours'].corr(df['bmi'], method='spearman')\n",
    "\n",
    "print(\"Pearson Correlation Coefficient:\", pearson_corr)\n",
    "print(\"Spearman's Rank Correlation:\", spearman_corr)"
   ]
  },
  {
   "cell_type": "markdown",
   "id": "d83c01e5-4174-4702-8ff9-d93d0879c0b7",
   "metadata": {},
   "source": [
    "### Q4. A researcher is interested in examining the relationship between the number of hours individuals spend watching television per day and their level of physical activity. The researcher collected data on both variables from a sample of 50 participants. Calculate the Pearson correlation coefficient between these two variables."
   ]
  },
  {
   "cell_type": "code",
   "execution_count": 21,
   "id": "7e8f89dc-9e86-46e7-a2c1-7314eca3a845",
   "metadata": {},
   "outputs": [],
   "source": [
    "data = {\n",
    "    'tv_hours': [2, 3.5, 1, 4, 5, 3, 2.5, 1.5, 3, 4, 2, 3.5, 1, 4, 5, 3, 2.5, 1.5, 3, 4, 2, 3.5, 1, 4, 5, 3, 2.5, 1.5, 3, 4, 2, 3.5, 1, 4, 5, 3, 2.5, 1.5, 3, 4, 2, 3.5, 1, 4, 5, 3],  \n",
    "    'physical_activity': [30, 45, 15, 60, 75, 40, 35, 20, 45, 55, 25, 50, 10, 55, 70, 30, 40, 20, 45, 60, 25, 35, 10, 60, 70, 35, 25, 15, 50, 65, 30, 40, 10, 65, 75, 45, 35, 15, 60, 70, 20, 25, 5, 55, 60,  45]\n",
    "}\n",
    "    # round float values to '2' decimal places\n",
    "data['physical_activity'] = [round(i/60,2) for i in data['physical_activity']]\n",
    "\n",
    "df= pd.DataFrame(data)\n"
   ]
  },
  {
   "cell_type": "code",
   "execution_count": 30,
   "id": "910c34a2-b504-470e-9aa5-a878b5dca183",
   "metadata": {},
   "outputs": [
    {
     "name": "stdout",
     "output_type": "stream",
     "text": [
      "Pearson correlation: ' + 0.93274\n"
     ]
    }
   ],
   "source": [
    "print(f\"Pearson correlation: ' + {round(df['tv_hours'].corr(df['physical_activity']), 5)}\")"
   ]
  },
  {
   "cell_type": "code",
   "execution_count": 45,
   "id": "6b9c7d8d-b553-42f6-8fe9-a7ecbeffe9fe",
   "metadata": {},
   "outputs": [
    {
     "data": {
      "text/html": [
       "<div>\n",
       "<style scoped>\n",
       "    .dataframe tbody tr th:only-of-type {\n",
       "        vertical-align: middle;\n",
       "    }\n",
       "\n",
       "    .dataframe tbody tr th {\n",
       "        vertical-align: top;\n",
       "    }\n",
       "\n",
       "    .dataframe thead th {\n",
       "        text-align: right;\n",
       "    }\n",
       "</style>\n",
       "<table border=\"1\" class=\"dataframe\">\n",
       "  <thead>\n",
       "    <tr style=\"text-align: right;\">\n",
       "      <th></th>\n",
       "      <th>Age(Years)</th>\n",
       "      <th>Soft drink Preference</th>\n",
       "    </tr>\n",
       "  </thead>\n",
       "  <tbody>\n",
       "    <tr>\n",
       "      <th>0</th>\n",
       "      <td>25</td>\n",
       "      <td>Coke</td>\n",
       "    </tr>\n",
       "    <tr>\n",
       "      <th>1</th>\n",
       "      <td>42</td>\n",
       "      <td>Pepsi</td>\n",
       "    </tr>\n",
       "    <tr>\n",
       "      <th>2</th>\n",
       "      <td>37</td>\n",
       "      <td>Mountain dew</td>\n",
       "    </tr>\n",
       "    <tr>\n",
       "      <th>3</th>\n",
       "      <td>19</td>\n",
       "      <td>Coke</td>\n",
       "    </tr>\n",
       "    <tr>\n",
       "      <th>4</th>\n",
       "      <td>31</td>\n",
       "      <td>Pepsi</td>\n",
       "    </tr>\n",
       "    <tr>\n",
       "      <th>5</th>\n",
       "      <td>28</td>\n",
       "      <td>Coke</td>\n",
       "    </tr>\n",
       "  </tbody>\n",
       "</table>\n",
       "</div>"
      ],
      "text/plain": [
       "   Age(Years) Soft drink Preference\n",
       "0          25                  Coke\n",
       "1          42                 Pepsi\n",
       "2          37          Mountain dew\n",
       "3          19                  Coke\n",
       "4          31                 Pepsi\n",
       "5          28                  Coke"
      ]
     },
     "execution_count": 45,
     "metadata": {},
     "output_type": "execute_result"
    }
   ],
   "source": [
    "\n",
    "data = {\n",
    "    'Age(Years)':[25,42,37,19,31,28],\n",
    "    'Soft drink Preference':['Coke', 'Pepsi','Mountain dew', 'Coke', 'Pepsi', 'Coke' ]\n",
    "}\n",
    "\n",
    "\n",
    "df = pd.DataFrame(data)\n",
    "df"
   ]
  },
  {
   "cell_type": "code",
   "execution_count": 51,
   "id": "810cd28c-243c-4d8d-a38e-00f52c75f468",
   "metadata": {},
   "outputs": [],
   "source": [
    "from sklearn.preprocessing import LabelEncoder\n",
    "\n",
    "encoder = LabelEncoder()\n",
    "df['Soft drink Preference'] = encoder.fit_transform(df['Soft drink Preference'])"
   ]
  },
  {
   "cell_type": "code",
   "execution_count": 52,
   "id": "3282cc18-9bbd-4bcd-af5f-1902fcd2a556",
   "metadata": {},
   "outputs": [
    {
     "data": {
      "text/html": [
       "<div>\n",
       "<style scoped>\n",
       "    .dataframe tbody tr th:only-of-type {\n",
       "        vertical-align: middle;\n",
       "    }\n",
       "\n",
       "    .dataframe tbody tr th {\n",
       "        vertical-align: top;\n",
       "    }\n",
       "\n",
       "    .dataframe thead th {\n",
       "        text-align: right;\n",
       "    }\n",
       "</style>\n",
       "<table border=\"1\" class=\"dataframe\">\n",
       "  <thead>\n",
       "    <tr style=\"text-align: right;\">\n",
       "      <th></th>\n",
       "      <th>Age(Years)</th>\n",
       "      <th>Soft drink Preference</th>\n",
       "    </tr>\n",
       "  </thead>\n",
       "  <tbody>\n",
       "    <tr>\n",
       "      <th>Age(Years)</th>\n",
       "      <td>1.000000</td>\n",
       "      <td>0.769175</td>\n",
       "    </tr>\n",
       "    <tr>\n",
       "      <th>Soft drink Preference</th>\n",
       "      <td>0.769175</td>\n",
       "      <td>1.000000</td>\n",
       "    </tr>\n",
       "  </tbody>\n",
       "</table>\n",
       "</div>"
      ],
      "text/plain": [
       "                       Age(Years)  Soft drink Preference\n",
       "Age(Years)               1.000000               0.769175\n",
       "Soft drink Preference    0.769175               1.000000"
      ]
     },
     "execution_count": 52,
     "metadata": {},
     "output_type": "execute_result"
    }
   ],
   "source": [
    "df.corr()"
   ]
  },
  {
   "cell_type": "markdown",
   "id": "0bc5c66c-d833-4d2c-a77a-d61e427f7810",
   "metadata": {
    "tags": []
   },
   "source": [
    "### Q6. A company is interested in examining the relationship between the number of sales calls made per day and the number of sales made per week. The company collected data on both variables from a sample of 30 sales representatives. Calculate the Pearson correlation coefficient between these two variables."
   ]
  },
  {
   "cell_type": "code",
   "execution_count": 53,
   "id": "42238593-c7e3-480c-9301-bac379773aae",
   "metadata": {},
   "outputs": [
    {
     "name": "stdout",
     "output_type": "stream",
     "text": [
      "Pearson Correlation Coefficient: 0.9687558922940599\n"
     ]
    }
   ],
   "source": [
    "\n",
    "\n",
    "import pandas as pd\n",
    "\n",
    "data = {\n",
    "    'sales_calls_per_day': [15, 20, 12, 18, 22, 17, 13, 16, 19, 14, 21, 15, 18, 20, 16, 14, 17, 12, 19, 22, 18, 13, 15, 20, 21, 16, 19, 23, 17, 14, 18],\n",
    "    'sales_per_week': [5, 7, 4, 6, 8, 6, 4, 5, 7, 4, 8, 5, 7, 8, 6, 4, 5, 3, 7, 9, 7, 4, 5, 8, 8, 6, 7, 9, 6, 4, 7]\n",
    "}\n",
    "\n",
    "df = pd.DataFrame(data)\n",
    "\n",
    "# Calculate Pearson correlation coefficient\n",
    "pearson_corr = df['sales_calls_per_day'].corr(df['sales_per_week'], method='pearson')\n",
    "\n",
    "print(\"Pearson Correlation Coefficient:\", pearson_corr)\n"
   ]
  },
  {
   "cell_type": "code",
   "execution_count": null,
   "id": "ad012fd6-8ce0-4cc8-8b84-f1579dcbd536",
   "metadata": {},
   "outputs": [],
   "source": []
  }
 ],
 "metadata": {
  "kernelspec": {
   "display_name": "Python 3 (ipykernel)",
   "language": "python",
   "name": "python3"
  },
  "language_info": {
   "codemirror_mode": {
    "name": "ipython",
    "version": 3
   },
   "file_extension": ".py",
   "mimetype": "text/x-python",
   "name": "python",
   "nbconvert_exporter": "python",
   "pygments_lexer": "ipython3",
   "version": "3.10.8"
  }
 },
 "nbformat": 4,
 "nbformat_minor": 5
}
