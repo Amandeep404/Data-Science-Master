{
 "cells": [
  {
   "cell_type": "markdown",
   "id": "054bcb78-a5c1-4b45-ace2-48d7c0568a95",
   "metadata": {},
   "source": [
    "### Q1- Explain the following with an exmple\n",
    "i) Artificial IntKlligence\n",
    "ii) Machine learning\n",
    "iii) Deep Learning"
   ]
  },
  {
   "cell_type": "markdown",
   "id": "4c18f8e1-091c-4b88-a74e-3f1901ced9f7",
   "metadata": {},
   "source": [
    "Answer - i) **Artificial Intelligence** - AI referes to the simulation of human like intelligence in machines. It mimics or try to do operations or task that may require human intelligence by itself.\n",
    "AI system can analyze data, learn from it and make decisions or predictions based on patterns and experiences.\n",
    "\n",
    "Example of AI can be virtual assistants such as siri or Google\n",
    "\n",
    "ii) **Machine Learning** - Mahcine learning is a subset of AI that focuses on enabling computers to learn from data without being explicitly programmed. In other words, its about creating algorithms that can improve their performance over time through learning from examples.\n",
    "\n",
    "example of ML- E-mail spam analyzer \n",
    "\n",
    "\n",
    "iii) **Deep Learning** - Deep Learning is a specialized subset of Machine Learning that involves artificial neural networks with multiple layers. These neural networks are inspired by the structure of Human brain and are designed to automatically learn hierarchial representations of data. These neural networks are trained on massive data.\n",
    "\n",
    "example of Deep Learning - image recognition\n",
    "\n"
   ]
  },
  {
   "cell_type": "markdown",
   "id": "6050cd19-be87-4ffe-9f1c-aa01fb7227e9",
   "metadata": {},
   "source": [
    "### Q2- What is supervised learning? List some examples of supervised learning.\n",
    "\n",
    "Answer - Supervised learning is a type of machhine learning where the algorithm learns from labeled training data.I n supervised learning we are provided with input-output pairs where inputs are the features of the data and outputs are corresponding labels or target values. In supervised learning our aim is to minimize the difference between our model predicted value and the actual labeled output.\n",
    "\n",
    "example - predicting house price, image classifier, email spam detection, stock price prediction, credit risk management"
   ]
  },
  {
   "cell_type": "markdown",
   "id": "b3957075-4192-413d-a4cf-c86971285dde",
   "metadata": {},
   "source": [
    "### Q3- What is unsupervised learning? List some examples of unsupervised learning.\n",
    "\n",
    "Answer - Unsupervised learning is a type of machine learning where the algorithm learns patterns and relationships within a dataset without explicit labeled output. In unsupervised learning, the algorithm aims to find inherent structures, groupings, or representations in the data without being provided with predetermined target labels.\n",
    "\n",
    "examples - Clustering, market basket analysis, Dimensionalitiy reduction,, Image segmentation "
   ]
  },
  {
   "cell_type": "markdown",
   "id": "20212f47-590d-420f-ac5c-c86369a16c74",
   "metadata": {},
   "source": [
    "### Q4- What is the difference between AI, ML, DL, and DS?\n",
    "\n",
    "* AI (Artificial Intelligence):\n",
    "AI refers to the broader field of creating machines or systems that can simulate human-like intelligence. It involves developing algorithms and models that enable computers to perform tasks that typically require human intelligence\n",
    "\n",
    "\n",
    "* ML (Machine Learning):\n",
    "Machine Learning is a subset of AI that focuses on the development of algorithms that allow computers to learn from data. Instead of being explicitly programmed, ML algorithms use data to improve their performance over time.\n",
    "\n",
    "\n",
    "* DL (Deep Learning):\n",
    "Deep Learning is a specialized subfield of machine learning that involves the use of artificial neural networks with multiple layers (hence \"deep\"). These networks are inspired by the structure of the human brain and are designed to automatically learn hierarchical representations of data. \n",
    "\n",
    "* DS (Data Science):\n",
    "Data Science is an interdisciplinary field that involves using techniques and processes from statistics, computer science, and domain knowledge to extract insights and knowledge from data. Data Scientists collect, clean, analyze, and interpret large and complex datasets to uncover trends, patterns, and valuable information that can guide decision-making"
   ]
  },
  {
   "cell_type": "markdown",
   "id": "ea96dcff-7ea3-4926-9e51-c0cb82f1f2be",
   "metadata": {},
   "source": [
    "### Q5- What are the main differences between supervised, unsupervised, and semi-supervised learning?\n",
    "\n",
    "1. Supervised Learning:\n",
    "\n",
    "* Uses labeled data with input-output pairs.\n",
    "* Goal: Predict output labels for new data.\n",
    "* Examples: Classification, regression.\n",
    "\n",
    "2. Unsupervised Learning:\n",
    "\n",
    "* Uses unlabeled data.\n",
    "* Goal: Discover patterns or structures in the data.\n",
    "* Examples: Clustering, dimensionality reduction.\n",
    "\n",
    "3. semi-supervised Learning:\n",
    "\n",
    "* Combines labeled and unlabeled data.\n",
    "* Goal: Use labeled data for guidance and unlabeled data to enhance learning.\n",
    "* Useful when labeled data is limited."
   ]
  },
  {
   "cell_type": "markdown",
   "id": "2764f747-4d38-4da0-b106-39361f737284",
   "metadata": {},
   "source": [
    "### Q6- What is train, test and validation split? Explain the importance of each term.\n",
    "\n",
    "\n",
    "**Train-Test-Validation Split**:\n",
    "Train-test-validation split is a common practice in machine learning to divide a dataset into three distinct subsets: the training set, the test set, and the validation set. Each subset serves a specific purpose in the machine learning workflow.\n",
    "\n",
    "* Training Set: The training set is the foundation of the model's learning process. It allows the model to learn from the data and identify patterns, relationships, and features relevant to the task.\n",
    "* Test Set: The test set serves as a reality check for the model's performance. It simulates how well the model will perform on new, unseen data in the real world. A good performance on the test set indicates the model's generalization ability.\n",
    "* Validation Set: The validation set ensures that the model is not overfitting to the training data. It helps fine-tune hyperparameters and select the best model variant before evaluating the model on the test set."
   ]
  },
  {
   "cell_type": "markdown",
   "id": "064d38d9-144c-45cb-94a4-878607e0a50e",
   "metadata": {},
   "source": [
    "### Q7- How can unsupervised learning be used in anomaly detection?\n",
    "\n",
    "Unsupervised learning is used in anomaly detection by identifying patterns in data and recognizing deviations from these patterns. Clustering, density estimation, isolation forest, autoencoders, and other methods help detect anomalies without requiring labeled anomaly examples."
   ]
  },
  {
   "cell_type": "markdown",
   "id": "57a490dc-c70d-4079-8a0d-7467ef47b42e",
   "metadata": {},
   "source": [
    "### Q8- List down some commonly used supervised learning algorithms and unsupervised learning algorithms.\n",
    "\n",
    "**Commonly Used Supervised Learning Algorithms:**\n",
    "1. Linear Regression\n",
    "2. Logistic Regression\n",
    "3. Decision Trees\n",
    "4. Random Forest\n",
    "5. Support Vector Machines (SVM)\n",
    "6. K-Nearest Neighbors (KNN)\n",
    "7. Naive Bayes\n",
    "8. Gradient Boosting\n",
    "9. Neural Networks\n",
    "\n",
    "**Commonly Used Unsupervised Learning Algorithms:**\n",
    "1. K-Means Clustering\n",
    "2. Hierarchical Clustering\n",
    "3. DBSCAN\n",
    "4. PCA (Principal Component Analysis)\n",
    "5. Autoencoders\n",
    "6. Isolation Forest\n",
    "7. Gaussian Mixture Models (GMM)\n",
    "8. Self-Organizing Maps (SOM)\n",
    "9. Anomaly Detection Algorithms"
   ]
  },
  {
   "cell_type": "code",
   "execution_count": null,
   "id": "5670ae66-e6d6-4e28-b64f-8a56f7fd3b89",
   "metadata": {},
   "outputs": [],
   "source": []
  }
 ],
 "metadata": {
  "kernelspec": {
   "display_name": "Python 3 (ipykernel)",
   "language": "python",
   "name": "python3"
  },
  "language_info": {
   "codemirror_mode": {
    "name": "ipython",
    "version": 3
   },
   "file_extension": ".py",
   "mimetype": "text/x-python",
   "name": "python",
   "nbconvert_exporter": "python",
   "pygments_lexer": "ipython3",
   "version": "3.10.8"
  }
 },
 "nbformat": 4,
 "nbformat_minor": 5
}
