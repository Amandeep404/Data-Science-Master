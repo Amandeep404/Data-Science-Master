{
 "cells": [
  {
   "cell_type": "markdown",
   "id": "011b2122-8e24-4ea5-b515-c04ea1a27b6d",
   "metadata": {},
   "source": [
    "### Q1. What is the difference between Ordinal Encoding and Label Encoding? Provide an example of when you might choose one over the other.\n",
    "\n",
    "Answer - \n",
    "\n",
    "**Ordinal Encoding vs. Label Encoding:**\n",
    "Ordinal Encoding and Label Encoding are both techniques used in machine learning to convert categorical data into numerical format for model training. However, they are used in different scenarios and have distinct approaches.\n",
    "\n",
    "1. **Ordinal Encoding:**\n",
    "   - In ordinal encoding, categories are assigned numerical values based on their order or rank.\n",
    "   - It's suitable when the categorical variable has an inherent order or hierarchy.\n",
    "   - Example: Education levels (High School < Bachelor's < Master's < PhD) can be encoded as (1 < 2 < 3 < 4).\n",
    "\n",
    "2. **Label Encoding:**\n",
    "   - In label encoding, each category is assigned a unique integer label.\n",
    "   - It's used when there is no inherent order among categories.\n",
    "   - Example: Colors (Red, Blue, Green) can be encoded as (0, 1, 2).\n",
    "\n"
   ]
  },
  {
   "cell_type": "markdown",
   "id": "40a710f7-748a-4658-b410-938cce531d61",
   "metadata": {},
   "source": [
    "### Q2. Explain how Target Guided Ordinal Encoding works and provide an example of when you might use it in a machine learning project.\n",
    "\n",
    "Answer - \n",
    "\n",
    "**Target Guided Ordinal Encoding is a technique used in machine learning to encode categorical variables based on their relationship with the target variable. It's particularly useful when dealing with categorical features that have a strong influence on the target variable.**\n",
    "\n",
    "Here's how Target Guided Ordinal Encoding works:\n",
    "\n",
    "1. **Calculate Target Mean/Median per Category:** For each category in the categorical feature, calculate the mean or median of the target variable for instances belonging to that category.\n",
    "\n",
    "2. **Sort Categories:** Sort the categories based on their calculated means/medians. The category with the lowest mean/median gets the lowest label, and so on.\n",
    "\n",
    "3. **Assign Ordinal Labels:** Assign ordinal labels to the categories based on their order after sorting. The category with the highest mean/median gets the highest label, and the lowest mean/median gets the lowest label.\n",
    "\n",
    "This encoding technique takes advantage of the relationship between the categorical feature and the target variable. It's particularly useful when the categorical variable has a significant impact on the target and you want to capture that influence in the encoding.\n",
    "\n",
    "**Example Scenario: Loan Approval Prediction**\n",
    "Suppose you're working on a machine learning project to predict whether a loan application should be approved or not. One of the features is \"Education Level,\" and you suspect that the education level might have an impact on loan approval. You can use Target Guided Ordinal Encoding in the following way:\n",
    "\n",
    "1. **Calculate Mean Approval Rate for Each Education Level:**\n",
    "   - High School: 0.40 (40% approval rate)\n",
    "   - Bachelor's: 0.60 (60% approval rate)\n",
    "   - Master's: 0.75 (75% approval rate)\n",
    "   - PhD: 0.85 (85% approval rate)\n",
    "\n",
    "2. **Sort Education Levels Based on Approval Rates:**\n",
    "   - PhD (85%)\n",
    "   - Master's (75%)\n",
    "   - Bachelor's (60%)\n",
    "   - High School (40%)\n",
    "\n",
    "3. **Assign Ordinal Labels:**\n",
    "   - PhD: 4\n",
    "   - Master's: 3\n",
    "   - Bachelor's: 2\n",
    "   - High School: 1\n",
    "\n"
   ]
  },
  {
   "cell_type": "markdown",
   "id": "4c61f777-8f2c-4946-b37f-1140b17c944c",
   "metadata": {},
   "source": [
    "### Q3. Define covariance and explain why it is important in statistical analysis. How is covariance calculated?\n",
    "\n",
    "**Covariance** is a statistical measure that quantifies the degree to which two random variables change together. It indicates whether an increase in one variable corresponds to an increase, decrease, or no change in another variable. In other words, it measures the directional relationship between two variables. \n",
    "\n",
    "**Importance of Covariance in Statistical Analysis:**\n",
    "Covariance plays a crucial role in statistical analysis for several reasons:\n",
    "\n",
    "1. **Relationship Assessment**\n",
    "\n",
    "2. **Portfolio Diversification**\n",
    "\n",
    "3. **Dimensionality Reduction** \n",
    "\n",
    "4. **Linear Regression**\n",
    "\n",
    "**Calculation of Covariance:**\n",
    "The formula to calculate the covariance between two variables X and Y in a dataset of n data points is as follows:\n",
    "\n",
    "```\n",
    "cov(X, Y) = Σ((X_i - X̄) * (Y_i - Ȳ)) / (n - 1)\n",
    "```\n",
    "\n",
    "Where:\n",
    "- `X_i` and `Y_i` are the individual data points of X and Y.\n",
    "- `X̄` is the mean of variable X.\n",
    "- `Ȳ` is the mean of variable Y.\n",
    "- `n` is the number of data points.\n",
    "\n",
    "Note that dividing by `(n - 1)` instead of `n` in the formula is known as Bessel's correction and is used to provide an unbiased estimate of the population covariance from a sample.\n"
   ]
  },
  {
   "cell_type": "markdown",
   "id": "17a89ca1-fe57-442d-b7ab-8e5d0f00d960",
   "metadata": {},
   "source": [
    "### Q4. For a dataset with the following categorical variables: Color (red, green, blue), Size (small, medium, large), and Material (wood, metal, plastic), perform label encoding using Python's scikit-learn library. Show your code and explain the output."
   ]
  },
  {
   "cell_type": "code",
   "execution_count": 24,
   "id": "97189f35-4264-47ec-8973-b56d73cf08cc",
   "metadata": {},
   "outputs": [],
   "source": [
    "import pandas as pd\n",
    "from sklearn.preprocessing import LabelEncoder\n",
    "\n",
    "data = {\n",
    "    'Color':['red', 'green', 'blue'],\n",
    "    'Size':['small', 'medium', 'large'],\n",
    "    'Material':['wood', 'metal', 'plastic']\n",
    "}\n",
    "\n",
    "df = pd.DataFrame(data)"
   ]
  },
  {
   "cell_type": "code",
   "execution_count": 25,
   "id": "5227c13f-274a-4ba0-9e3c-15217691e7f9",
   "metadata": {},
   "outputs": [],
   "source": [
    "encoder = LabelEncoder()\n",
    "for i in df.columns:\n",
    "    df[i + '_encoded'] = encoder.fit_transform(df[i])"
   ]
  },
  {
   "cell_type": "code",
   "execution_count": 26,
   "id": "053f56ab-5105-42a3-b4a1-bdb952f81c85",
   "metadata": {},
   "outputs": [
    {
     "data": {
      "text/html": [
       "<div>\n",
       "<style scoped>\n",
       "    .dataframe tbody tr th:only-of-type {\n",
       "        vertical-align: middle;\n",
       "    }\n",
       "\n",
       "    .dataframe tbody tr th {\n",
       "        vertical-align: top;\n",
       "    }\n",
       "\n",
       "    .dataframe thead th {\n",
       "        text-align: right;\n",
       "    }\n",
       "</style>\n",
       "<table border=\"1\" class=\"dataframe\">\n",
       "  <thead>\n",
       "    <tr style=\"text-align: right;\">\n",
       "      <th></th>\n",
       "      <th>Color</th>\n",
       "      <th>Size</th>\n",
       "      <th>Material</th>\n",
       "      <th>Color_encoded</th>\n",
       "      <th>Size_encoded</th>\n",
       "      <th>Material_encoded</th>\n",
       "    </tr>\n",
       "  </thead>\n",
       "  <tbody>\n",
       "    <tr>\n",
       "      <th>0</th>\n",
       "      <td>red</td>\n",
       "      <td>small</td>\n",
       "      <td>wood</td>\n",
       "      <td>2</td>\n",
       "      <td>2</td>\n",
       "      <td>2</td>\n",
       "    </tr>\n",
       "    <tr>\n",
       "      <th>1</th>\n",
       "      <td>green</td>\n",
       "      <td>medium</td>\n",
       "      <td>metal</td>\n",
       "      <td>1</td>\n",
       "      <td>1</td>\n",
       "      <td>0</td>\n",
       "    </tr>\n",
       "    <tr>\n",
       "      <th>2</th>\n",
       "      <td>blue</td>\n",
       "      <td>large</td>\n",
       "      <td>plastic</td>\n",
       "      <td>0</td>\n",
       "      <td>0</td>\n",
       "      <td>1</td>\n",
       "    </tr>\n",
       "  </tbody>\n",
       "</table>\n",
       "</div>"
      ],
      "text/plain": [
       "   Color    Size Material  Color_encoded  Size_encoded  Material_encoded\n",
       "0    red   small     wood              2             2                 2\n",
       "1  green  medium    metal              1             1                 0\n",
       "2   blue   large  plastic              0             0                 1"
      ]
     },
     "execution_count": 26,
     "metadata": {},
     "output_type": "execute_result"
    }
   ],
   "source": [
    "df"
   ]
  },
  {
   "cell_type": "markdown",
   "id": "60059872-d746-4562-8f3e-bfd9ece5d23b",
   "metadata": {},
   "source": [
    "### Q5. Calculate the covariance matrix for the following variables in a dataset: Age, Income, and Education level. Interpret the results."
   ]
  },
  {
   "cell_type": "code",
   "execution_count": 47,
   "id": "78670910-248f-479c-8db3-12b5a5405b8a",
   "metadata": {},
   "outputs": [
    {
     "name": "stdout",
     "output_type": "stream",
     "text": [
      "Covariance Matrix:\n",
      "[[3.53e+01 7.15e+04 2.20e+00]\n",
      " [7.15e+04 1.45e+08 4.75e+03]\n",
      " [2.20e+00 4.75e+03 1.30e+00]]\n"
     ]
    }
   ],
   "source": [
    "import numpy as np\n",
    "\n",
    "# Sample dataset\n",
    "age = [25, 30, 40, 35, 28]\n",
    "income = [50000, 60000, 80000, 70000, 55000]\n",
    "# Assuming ordinal values for Education Level: 1 = High School, 2 = Bachelor's, 3 = Master's, 4 = PhD\n",
    "education_level = [2, 3, 2, 4, 1]\n",
    "\n",
    "# Combine variables into a matrix\n",
    "data_matrix = np.array([age, income, education_level])\n",
    "\n",
    "# Calculate covariance matrix\n",
    "covariance_matrix = np.cov(data_matrix)\n",
    "\n",
    "# Print the covariance matrix\n",
    "print(\"Covariance Matrix:\")\n",
    "print(covariance_matrix)\n"
   ]
  },
  {
   "cell_type": "markdown",
   "id": "253e0c5b-e5d5-47ac-978d-a3f690f85c86",
   "metadata": {},
   "source": [
    "### Q6. You are working on a machine learning project with a dataset containing several categorical variables, including \"Gender\" (Male/Female), \"Education Level\" (High School/Bachelor's/Master's/PhD), and \"Employment Status\" (Unemployed/Part-Time/Full-Time). Which encoding method would you use for each variable, and why?\n",
    "\n",
    "For the given categorical variables \"Gender,\" \"Education Level,\" and \"Employment Status,\" the choice of encoding method depends on the nature of the variables and their potential impact on the machine learning model. Here's a recommendation for each variable:\n",
    "\n",
    "1. **Gender (Binary Categorical Variable - Male/Female):**\n",
    "   For binary categorical variables like \"Gender,\" where there are only two possible values, you can use **Label Encoding**. Since there are only two categories (Male and Female), you can assign 0 to Male and 1 to Female. This approach simplifies the representation of binary data without introducing extra dimensions.\n",
    "\n",
    "   ```plaintext\n",
    "   Male   -> 0\n",
    "   Female -> 1\n",
    "   ```\n",
    "\n",
    "2. **Education Level (Ordinal Categorical Variable - High School/Bachelor's/Master's/PhD):**\n",
    "   For ordinal categorical variables like \"Education Level,\" where there os inherent order among the categories, **Ordinal Encoding** is recommended.\n",
    "\n",
    "   ```plaintext\n",
    "   High School -> 1 0 0 0\n",
    "   Bachelor's  -> 0 1 0 0\n",
    "   Master's    -> 0 0 1 0\n",
    "   PhD         -> 0 0 0 1\n",
    "   ```\n",
    "\n",
    "3. **Employment Status (Ordinal Categorical Variable - Unemployed/Part-Time/Full-Time):**\n",
    "   For ordinal categorical variables like \"Employment Status,\" where there is an inherent order, but the differences between levels are not uniformly quantifiable, you can consider using **Label Encoding**. However, if you want to capture the ordinal relationship more accurately, you could also explore **Target Guided Ordinal Encoding**. This technique assigns labels based on the relationship with the target variable (if available).\n",
    "\n",
    "   ```plaintext\n",
    "   Unemployed  -> 0\n",
    "   Part-Time   -> 1\n",
    "   Full-Time   -> 2\n",
    "   ```\n"
   ]
  },
  {
   "cell_type": "markdown",
   "id": "db44a902-9734-45eb-bb85-964c852df08a",
   "metadata": {},
   "source": [
    "### Q7. You are analyzing a dataset with two continuous variables, \"Temperature\" and \"Humidity\", and two categorical variables, \"Weather Condition\" (Sunny/Cloudy/Rainy) and \"Wind Direction\" (North/South/ East/West). Calculate the covariance between each pair of variables and interpret the results.\n"
   ]
  },
  {
   "cell_type": "code",
   "execution_count": 41,
   "id": "bffd59aa-61dd-42d2-984b-f3bf5deb014f",
   "metadata": {},
   "outputs": [],
   "source": [
    "import numpy as np"
   ]
  },
  {
   "cell_type": "code",
   "execution_count": 46,
   "id": "e482b9c4-9b0c-4382-86f3-a4cfe9962a73",
   "metadata": {},
   "outputs": [
    {
     "name": "stdout",
     "output_type": "stream",
     "text": [
      "[[ 13.793  -44.0515   2.725    3.455 ]\n",
      " [-44.0515 149.717   -9.925  -11.64  ]\n",
      " [  2.725   -9.925    1.       0.5   ]\n",
      " [  3.455  -11.64     0.5      1.3   ]]\n"
     ]
    },
    {
     "name": "stderr",
     "output_type": "stream",
     "text": [
      "/tmp/ipykernel_103/2707882899.py:15: FutureWarning: The default value of numeric_only in DataFrame.cov is deprecated. In a future version, it will default to False. Select only valid columns or specify the value of numeric_only to silence this warning.\n",
      "  df.cov()\n"
     ]
    },
    {
     "data": {
      "text/html": [
       "<div>\n",
       "<style scoped>\n",
       "    .dataframe tbody tr th:only-of-type {\n",
       "        vertical-align: middle;\n",
       "    }\n",
       "\n",
       "    .dataframe tbody tr th {\n",
       "        vertical-align: top;\n",
       "    }\n",
       "\n",
       "    .dataframe thead th {\n",
       "        text-align: right;\n",
       "    }\n",
       "</style>\n",
       "<table border=\"1\" class=\"dataframe\">\n",
       "  <thead>\n",
       "    <tr style=\"text-align: right;\">\n",
       "      <th></th>\n",
       "      <th>Temperature</th>\n",
       "      <th>Humidity</th>\n",
       "      <th>encoder_weather</th>\n",
       "      <th>encoder_wind</th>\n",
       "    </tr>\n",
       "  </thead>\n",
       "  <tbody>\n",
       "    <tr>\n",
       "      <th>Temperature</th>\n",
       "      <td>13.7930</td>\n",
       "      <td>-44.0515</td>\n",
       "      <td>2.725</td>\n",
       "      <td>3.455</td>\n",
       "    </tr>\n",
       "    <tr>\n",
       "      <th>Humidity</th>\n",
       "      <td>-44.0515</td>\n",
       "      <td>149.7170</td>\n",
       "      <td>-9.925</td>\n",
       "      <td>-11.640</td>\n",
       "    </tr>\n",
       "    <tr>\n",
       "      <th>encoder_weather</th>\n",
       "      <td>2.7250</td>\n",
       "      <td>-9.9250</td>\n",
       "      <td>1.000</td>\n",
       "      <td>0.500</td>\n",
       "    </tr>\n",
       "    <tr>\n",
       "      <th>encoder_wind</th>\n",
       "      <td>3.4550</td>\n",
       "      <td>-11.6400</td>\n",
       "      <td>0.500</td>\n",
       "      <td>1.300</td>\n",
       "    </tr>\n",
       "  </tbody>\n",
       "</table>\n",
       "</div>"
      ],
      "text/plain": [
       "                 Temperature  Humidity  encoder_weather  encoder_wind\n",
       "Temperature          13.7930  -44.0515            2.725         3.455\n",
       "Humidity            -44.0515  149.7170           -9.925       -11.640\n",
       "encoder_weather       2.7250   -9.9250            1.000         0.500\n",
       "encoder_wind          3.4550  -11.6400            0.500         1.300"
      ]
     },
     "execution_count": 46,
     "metadata": {},
     "output_type": "execute_result"
    }
   ],
   "source": [
    "data = {\n",
    "    'Temperature': [25.0, 22.5, 28.7, 30.2, 21.8],\n",
    "    'Humidity': [60.0, 75.2, 52.1, 45.8, 70.3],\n",
    "    'Weather Condition': ['Sunny', 'Cloudy', 'Rainy', 'Sunny', 'Cloudy'],\n",
    "    'Wind Direction': ['North', 'East', 'West', 'South', 'North']\n",
    "}\n",
    "\n",
    "df = pd.DataFrame(data)\n",
    "\n",
    "encoder = LabelEncoder()\n",
    "df['encoder_weather'] = encoder.fit_transform(df['Weather Condition'])\n",
    "df['encoder_wind'] = encoder.fit_transform(df['Wind Direction'])\n",
    "\n",
    "# print(np.cov(np.array([df.Temperature, df.Humidity, df.encoder_weather, df.encoder_wind])))\n",
    "df.cov()"
   ]
  },
  {
   "cell_type": "code",
   "execution_count": null,
   "id": "9b98e5d0-c415-4990-bce5-4135582df486",
   "metadata": {},
   "outputs": [],
   "source": []
  },
  {
   "cell_type": "code",
   "execution_count": null,
   "id": "61aa6580-d88f-4022-bea9-21d249038454",
   "metadata": {},
   "outputs": [],
   "source": []
  },
  {
   "cell_type": "code",
   "execution_count": null,
   "id": "3e5db48c-c3b8-4111-889a-33a21346c898",
   "metadata": {},
   "outputs": [],
   "source": []
  },
  {
   "cell_type": "code",
   "execution_count": null,
   "id": "3a7a6dea-4b44-495a-9093-1ec655a85981",
   "metadata": {},
   "outputs": [],
   "source": []
  }
 ],
 "metadata": {
  "kernelspec": {
   "display_name": "Python 3 (ipykernel)",
   "language": "python",
   "name": "python3"
  },
  "language_info": {
   "codemirror_mode": {
    "name": "ipython",
    "version": 3
   },
   "file_extension": ".py",
   "mimetype": "text/x-python",
   "name": "python",
   "nbconvert_exporter": "python",
   "pygments_lexer": "ipython3",
   "version": "3.10.8"
  }
 },
 "nbformat": 4,
 "nbformat_minor": 5
}
