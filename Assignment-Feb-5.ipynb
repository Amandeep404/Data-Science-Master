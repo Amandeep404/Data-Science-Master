{
 "cells": [
  {
   "cell_type": "markdown",
   "id": "fa32b667-3f44-4bcb-9268-1085bd5f1489",
   "metadata": {},
   "source": [
    "2.\n",
    "The four pillars of OOPs is: Inheritance, Polymorphism, Encapsulation and Abstraction"
   ]
  },
  {
   "cell_type": "markdown",
   "id": "5d36af8f-00c5-48cd-ba2b-33bf7d8806ef",
   "metadata": {},
   "source": [
    "3.\n",
    "The __init__ method, also known as a constructor, is a special method in Python classes that is automatically called when an object of the class is created. The main purpose of the __init__ method is to initialize the attributes of the class and set their default values."
   ]
  },
  {
   "cell_type": "code",
   "execution_count": 2,
   "id": "5d0c7670-1288-4165-ba00-8b0262cf7556",
   "metadata": {},
   "outputs": [
    {
     "name": "stdout",
     "output_type": "stream",
     "text": [
      "Amandeep\n",
      "18\n"
     ]
    }
   ],
   "source": [
    "#Example using __init__\n",
    "class Person:\n",
    "    def __init__(self, name, age):\n",
    "        self.name = name\n",
    "        self.age = age\n",
    "#No we make the object of the class:\n",
    "\n",
    "per = Person('Amandeep', 18)\n",
    "print(per.name)\n",
    "print(per.age)\n"
   ]
  },
  {
   "cell_type": "markdown",
   "id": "da97a87c-7093-475d-911f-be1071652dac",
   "metadata": {},
   "source": [
    "3.\n",
    "In object-oriented programming (OOP), the `self` keyword is used to refer to the instance of the object itself. It is used to access the attributes and methods of the current object."
   ]
  },
  {
   "cell_type": "markdown",
   "id": "c827f2cb-6bfb-4abd-9233-4e889c1c4eb4",
   "metadata": {},
   "source": [
    "5.\n",
    "Inheritance is a fundamental concept in object-oriented programming (OOP) that allows you to create a new class (a subclass) that inherits attributes and methods from an existing class (a superclass). The subclass can reuse and modify the attributes and methods of the superclass, making it easier to reuse code and reduce duplicated effort.\n",
    "\n",
    "There are 3 types of Inheritance : \n",
    "* Single Injeritance\n",
    "* Multi-level Inheritance\n",
    "* Multiple Inheritance\n"
   ]
  },
  {
   "cell_type": "code",
   "execution_count": 6,
   "id": "44fe39b1-0d8d-45ad-821a-f991d7cb9f7f",
   "metadata": {},
   "outputs": [
    {
     "name": "stdout",
     "output_type": "stream",
     "text": [
      "Species: Cat\n",
      "breed: Scottish Fold\n",
      "sound: Meow\n"
     ]
    }
   ],
   "source": [
    "# Single Inheritance : \n",
    "class Animal : \n",
    "    def __init__(self, species, breed, sound):\n",
    "        self.species = species\n",
    "        self.breed = breed\n",
    "        self.sound = sound\n",
    "        \n",
    "    def animal_details(self):\n",
    "        print(\"Species:\", self.species)\n",
    "        print(\"breed:\", self.breed)\n",
    "        print(\"sound:\",self.sound)\n",
    "\n",
    "class Cat(Animal):\n",
    "    def __init__(self, breed, sound):\n",
    "        Animal.__init__(self, \"Cat\", breed, sound)\n",
    "        \n",
    "#Make an object of the class : \n",
    "cat = Cat(\"Scottish Fold\",\"Meow\")\n",
    "cat.animal_details()"
   ]
  },
  {
   "cell_type": "code",
   "execution_count": 10,
   "id": "57288e58-e599-445a-8865-6ef300690d6f",
   "metadata": {},
   "outputs": [
    {
     "data": {
      "text/plain": [
       "'Cat'"
      ]
     },
     "execution_count": 10,
     "metadata": {},
     "output_type": "execute_result"
    }
   ],
   "source": [
    "#Multi-level Inheritance:\n",
    "\n",
    "class LivingThing:\n",
    "    def __init__(self, name):\n",
    "        self.name = name\n",
    "\n",
    "class Animal(LivingThing) : \n",
    "    def __init__(self, species, breed, sound):\n",
    "        LivingThing.__init__(self, species)\n",
    "        self.species = species\n",
    "        self.breed = breed\n",
    "        self.sound = sound\n",
    "        \n",
    "    def animal_details(self):\n",
    "        print(\"Species:\", self.species)\n",
    "        print(\"breed:\", self.breed)\n",
    "        print(\"sound:\",self.sound)\n",
    "\n",
    "class Cat(Animal):\n",
    "    def __init__(self, breed, sound):\n",
    "        Animal.__init__(self, \"Cat\", breed, sound)\n",
    "\n",
    "#Make an object of the class : \n",
    "cat = Cat(\"Scottish Fold\",\"Meow\")\n",
    "cat.name\n"
   ]
  },
  {
   "cell_type": "code",
   "execution_count": 22,
   "id": "885ee650-066d-4f81-8a64-75f4c0b814ae",
   "metadata": {},
   "outputs": [
    {
     "name": "stdout",
     "output_type": "stream",
     "text": [
      "Species: Cat\n"
     ]
    }
   ],
   "source": [
    "class LivingThing:\n",
    "    def __init__(self, name):\n",
    "        self.name = name\n",
    "        \n",
    "    def living_species(self):\n",
    "        print(\"Species:\", self.name)\n",
    "\n",
    "class Animal : \n",
    "    def __init__(self, species, breed, sound):\n",
    "        LivingThing.__init__(self, species)\n",
    "        self.species = species\n",
    "        self.breed = breed\n",
    "        self.sound = sound\n",
    "        \n",
    "    def animal_details(self):\n",
    "        print(\"Species:\", self.species)\n",
    "        print(\"breed:\", self.breed)\n",
    "        print(\"sound:\",self.sound)\n",
    "\n",
    "class Cat(LivingThing,Animal):\n",
    "    def __init__(self, species ,breed, sound):\n",
    "        Animal.__init__(self, \"Cat\", breed, sound)\n",
    "        LivingThing.__init__(self, species)\n",
    "\n",
    "#Make an object of the class : \n",
    "cat = Cat(\"Cat\",\"Scottish Fold\",\"Meow\")\n",
    "cat.living_species()"
   ]
  },
  {
   "cell_type": "code",
   "execution_count": null,
   "id": "2639e80b-9d33-4be7-b2ad-be12a2a985f6",
   "metadata": {},
   "outputs": [],
   "source": []
  }
 ],
 "metadata": {
  "kernelspec": {
   "display_name": "Python 3 (ipykernel)",
   "language": "python",
   "name": "python3"
  },
  "language_info": {
   "codemirror_mode": {
    "name": "ipython",
    "version": 3
   },
   "file_extension": ".py",
   "mimetype": "text/x-python",
   "name": "python",
   "nbconvert_exporter": "python",
   "pygments_lexer": "ipython3",
   "version": "3.10.8"
  }
 },
 "nbformat": 4,
 "nbformat_minor": 5
}
