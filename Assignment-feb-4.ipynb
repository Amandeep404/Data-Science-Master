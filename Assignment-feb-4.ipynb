{
 "cells": [
  {
   "cell_type": "code",
   "execution_count": 11,
   "id": "5f39bf33-c5aa-48d7-92a5-f33b1cb2abb1",
   "metadata": {},
   "outputs": [],
   "source": [
    "1.\n",
    "\n",
    "l = [('Sachin Tendulkar', 34357), ('Ricky Ponting', 27483), ('Jack Kallis', 25534), ('Virat Kohli', 24936)]"
   ]
  },
  {
   "cell_type": "code",
   "execution_count": 9,
   "id": "d9c37574-5309-4ccc-8814-86c0f4eebbb8",
   "metadata": {},
   "outputs": [],
   "source": [
    "sort = l.sort(key = lambda x : x[1])  #by passing key as x[1], it sorts every second digit of each tuple"
   ]
  },
  {
   "cell_type": "code",
   "execution_count": 10,
   "id": "8def7a29-8120-4f9b-810c-937467d7564a",
   "metadata": {},
   "outputs": [
    {
     "name": "stdout",
     "output_type": "stream",
     "text": [
      "[('Virat Kohli', 24936), ('Jack Kallis', 25534), ('Ricky Ponting', 27483), ('Sachin Tendulkar', 34357)]\n"
     ]
    }
   ],
   "source": [
    "print(l)\n"
   ]
  },
  {
   "cell_type": "code",
   "execution_count": 19,
   "id": "9f77ab84-b209-496e-8700-065fb74d1053",
   "metadata": {},
   "outputs": [
    {
     "data": {
      "text/plain": [
       "[1, 4, 9, 16, 25, 36, 49, 64, 81, 100]"
      ]
     },
     "execution_count": 19,
     "metadata": {},
     "output_type": "execute_result"
    }
   ],
   "source": [
    "2.\n",
    "\n",
    "l1 = [1, 2, 3, 4, 5, 6, 7, 8, 9, 10]\n",
    "list(map(lambda x : x**2, l1))"
   ]
  },
  {
   "cell_type": "code",
   "execution_count": 20,
   "id": "8f945a1b-0806-42bc-b7f5-38f4927504fc",
   "metadata": {},
   "outputs": [
    {
     "data": {
      "text/plain": [
       "('1', '2', '3', '4', '5', '6', '7', '8', '9', '10')"
      ]
     },
     "execution_count": 20,
     "metadata": {},
     "output_type": "execute_result"
    }
   ],
   "source": [
    "3.\n",
    "\n",
    "l = [1, 2, 3, 4, 5, 6, 7, 8, 9, 10]\n",
    "tuple(map(lambda x : str(x), l))\n"
   ]
  },
  {
   "cell_type": "code",
   "execution_count": 32,
   "id": "a17e70ff-c4cc-4e6e-888f-3242bfaed807",
   "metadata": {},
   "outputs": [
    {
     "data": {
      "text/plain": [
       "15511210043330985984000000"
      ]
     },
     "execution_count": 32,
     "metadata": {},
     "output_type": "execute_result"
    }
   ],
   "source": [
    "4.\n",
    "\n",
    "from functools import reduce\n",
    "\n",
    "l = []\n",
    "for i in range(1,26):\n",
    "    l.append(i)\n",
    "    \n",
    "reduce(lambda x,y : x*y, l)\n"
   ]
  },
  {
   "cell_type": "code",
   "execution_count": 35,
   "id": "f20ca51a-39cf-45ba-a0ac-e7ae8bfbfaa4",
   "metadata": {},
   "outputs": [
    {
     "data": {
      "text/plain": [
       "[2, 3, 6, 9, 27, 60, 90, 120, 46]"
      ]
     },
     "execution_count": 35,
     "metadata": {},
     "output_type": "execute_result"
    }
   ],
   "source": [
    "5. \n",
    "l = [2, 3, 6, 9, 27, 60, 90, 120, 55, 46]\n",
    "list(filter(lambda x: x%2==0 or x%3==0 , l))"
   ]
  },
  {
   "cell_type": "code",
   "execution_count": 64,
   "id": "37e3c301-f632-42ba-b4a5-e4d447762a45",
   "metadata": {},
   "outputs": [
    {
     "name": "stdout",
     "output_type": "stream",
     "text": [
      "List of Palindrome words: ['php', 'aba', 'radar', 'level']\n"
     ]
    }
   ],
   "source": [
    "6.\n",
    "\n",
    "l = ['python', 'php', 'aba', 'radar', 'level']\n",
    "\n",
    "pal = list(filter(lambda x : x==x[::-1] , l))\n",
    "\n",
    "print(\"List of Palindrome words:\", pal)\n",
    "\n"
   ]
  },
  {
   "cell_type": "code",
   "execution_count": null,
   "id": "93c4f333-905a-4394-87c4-fb848469f585",
   "metadata": {},
   "outputs": [],
   "source": []
  }
 ],
 "metadata": {
  "kernelspec": {
   "display_name": "Python 3 (ipykernel)",
   "language": "python",
   "name": "python3"
  },
  "language_info": {
   "codemirror_mode": {
    "name": "ipython",
    "version": 3
   },
   "file_extension": ".py",
   "mimetype": "text/x-python",
   "name": "python",
   "nbconvert_exporter": "python",
   "pygments_lexer": "ipython3",
   "version": "3.10.8"
  }
 },
 "nbformat": 4,
 "nbformat_minor": 5
}
