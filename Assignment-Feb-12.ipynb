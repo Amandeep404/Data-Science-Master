{
 "cells": [
  {
   "cell_type": "markdown",
   "id": "887585ad-518b-4d62-ae29-8db14afda0f5",
   "metadata": {},
   "source": [
    "### Q1. Wht is a Exception in python Write the differen,e etween Exceptions and syntax errors\n",
    "\n",
    "In Python, an exception is an error that occurs during the execution of a program, which disrupts the normal flow of the program's instructions. When an exception occurs, Python generates an object that represents the error and then stops the program's execution, unless the exception is caught and handled by the program.\n",
    "\n",
    "The main difference between exceptions and syntax errors is that exceptions occur during the execution of a program, while syntax errors occur before the program is executed. "
   ]
  },
  {
   "cell_type": "markdown",
   "id": "506caac8-4c76-4bea-a1a8-d42d1cf19024",
   "metadata": {},
   "source": [
    "### Q2. What happens when a exception is not handled? Explain with an example \n",
    "When an exception is not handled in a Python program, the program will terminate abruptly, and an error message will be displayed to the user, indicating the type of exception that occurred and where it occurred in the code."
   ]
  },
  {
   "cell_type": "code",
   "execution_count": 1,
   "id": "d2979a8a-e672-4b78-8964-36ceed3c9ae8",
   "metadata": {},
   "outputs": [
    {
     "ename": "ZeroDivisionError",
     "evalue": "division by zero",
     "output_type": "error",
     "traceback": [
      "\u001b[0;31m---------------------------------------------------------------------------\u001b[0m",
      "\u001b[0;31mZeroDivisionError\u001b[0m                         Traceback (most recent call last)",
      "Cell \u001b[0;32mIn[1], line 6\u001b[0m\n\u001b[1;32m      3\u001b[0m     result \u001b[38;5;241m=\u001b[39m \u001b[38;5;241m10\u001b[39m \u001b[38;5;241m/\u001b[39m \u001b[38;5;241m0\u001b[39m\n\u001b[1;32m      4\u001b[0m     \u001b[38;5;28mprint\u001b[39m(result)\n\u001b[0;32m----> 6\u001b[0m \u001b[43mdivide_by_zero\u001b[49m\u001b[43m(\u001b[49m\u001b[43m)\u001b[49m\n",
      "Cell \u001b[0;32mIn[1], line 3\u001b[0m, in \u001b[0;36mdivide_by_zero\u001b[0;34m()\u001b[0m\n\u001b[1;32m      2\u001b[0m \u001b[38;5;28;01mdef\u001b[39;00m \u001b[38;5;21mdivide_by_zero\u001b[39m():\n\u001b[0;32m----> 3\u001b[0m     result \u001b[38;5;241m=\u001b[39m \u001b[38;5;241;43m10\u001b[39;49m\u001b[43m \u001b[49m\u001b[38;5;241;43m/\u001b[39;49m\u001b[43m \u001b[49m\u001b[38;5;241;43m0\u001b[39;49m\n\u001b[1;32m      4\u001b[0m     \u001b[38;5;28mprint\u001b[39m(result)\n",
      "\u001b[0;31mZeroDivisionError\u001b[0m: division by zero"
     ]
    }
   ],
   "source": [
    "\n",
    "# Example of an unhandled exception\n",
    "def divide_by_zero():\n",
    "    result = 10 / 0\n",
    "    print(result)\n",
    "\n",
    "divide_by_zero()\n"
   ]
  },
  {
   "cell_type": "code",
   "execution_count": 8,
   "id": "0e407234-d2f7-447f-846a-33c46cecb8d2",
   "metadata": {},
   "outputs": [
    {
     "name": "stdout",
     "output_type": "stream",
     "text": [
      "Invalid Input\n"
     ]
    }
   ],
   "source": [
    "## Q3. Which Python statements are used to catch and  handle exceptions. explain with an example\n",
    "\n",
    "'''In python try-except statements are used to handle exceprions in python '''\n",
    "\n",
    "def divide(x, y):\n",
    "    try:\n",
    "        div = x//y\n",
    "        print(f\"{x}/{y} = {div}\")\n",
    "    except (ValueError, ZeroDivisionError) :\n",
    "        print(\"Invalid Input\")\n",
    "        \n",
    "divide(10,0)"
   ]
  },
  {
   "cell_type": "code",
   "execution_count": 13,
   "id": "f347ae90-9dd8-4dec-bcc6-4a8a128bcde7",
   "metadata": {},
   "outputs": [
    {
     "name": "stdout",
     "output_type": "stream",
     "text": [
      "Invalid Input\n",
      "File not found\n",
      "The finally block will execute no matter if there is an error or not\n"
     ]
    },
    {
     "ename": "ZeroDivisionError",
     "evalue": "this is to raise and exception that we Cannot divide by zero",
     "output_type": "error",
     "traceback": [
      "\u001b[0;31m---------------------------------------------------------------------------\u001b[0m",
      "\u001b[0;31mZeroDivisionError\u001b[0m                         Traceback (most recent call last)",
      "Cell \u001b[0;32mIn[13], line 32\u001b[0m\n\u001b[1;32m     29\u001b[0m     \u001b[38;5;28;01melse\u001b[39;00m:\n\u001b[1;32m     30\u001b[0m         \u001b[38;5;28;01mreturn\u001b[39;00m x \u001b[38;5;241m/\u001b[39m\u001b[38;5;241m/\u001b[39m y\n\u001b[0;32m---> 32\u001b[0m \u001b[43mdivide\u001b[49m\u001b[43m(\u001b[49m\u001b[38;5;241;43m10\u001b[39;49m\u001b[43m,\u001b[49m\u001b[38;5;241;43m0\u001b[39;49m\u001b[43m)\u001b[49m\n",
      "Cell \u001b[0;32mIn[13], line 28\u001b[0m, in \u001b[0;36mdivide\u001b[0;34m(x, y)\u001b[0m\n\u001b[1;32m     26\u001b[0m \u001b[38;5;28;01mdef\u001b[39;00m \u001b[38;5;21mdivide\u001b[39m(x, y):\n\u001b[1;32m     27\u001b[0m     \u001b[38;5;28;01mif\u001b[39;00m y \u001b[38;5;241m==\u001b[39m \u001b[38;5;241m0\u001b[39m:\n\u001b[0;32m---> 28\u001b[0m         \u001b[38;5;28;01mraise\u001b[39;00m \u001b[38;5;167;01mZeroDivisionError\u001b[39;00m(\u001b[38;5;124m\"\u001b[39m\u001b[38;5;124mthis is to raise and exception that we Cannot divide by zero\u001b[39m\u001b[38;5;124m\"\u001b[39m)\n\u001b[1;32m     29\u001b[0m     \u001b[38;5;28;01melse\u001b[39;00m:\n\u001b[1;32m     30\u001b[0m         \u001b[38;5;28;01mreturn\u001b[39;00m x \u001b[38;5;241m/\u001b[39m\u001b[38;5;241m/\u001b[39m y\n",
      "\u001b[0;31mZeroDivisionError\u001b[0m: this is to raise and exception that we Cannot divide by zero"
     ]
    }
   ],
   "source": [
    "#Q4. \n",
    "# a. try and else:\n",
    "def divide(x, y):\n",
    "    try:\n",
    "        div = x//y\n",
    "        print(f\"{x}/{y} = {div}\")\n",
    "    except (ValueError, ZeroDivisionError) :\n",
    "        print(\"Invalid Input\")\n",
    "    else  :\n",
    "        print(\"This will execute only if there is no exception\")\n",
    "        \n",
    "divide(10,0)\n",
    "\n",
    "#b. finally:\n",
    "try:\n",
    "    file = open(\"example.txt\", \"r\")\n",
    "    content = file.read()\n",
    "    print(content)\n",
    "except FileNotFoundError:\n",
    "    print(\"File not found\")\n",
    "finally:\n",
    "    print(\"The finally block will execute no matter if there is an error or not\" )\n",
    "\n",
    "# c. raise:\n",
    "\n",
    "def divide(x, y):\n",
    "    if y == 0:\n",
    "        raise ZeroDivisionError(\"this is to raise and exception that we Cannot divide by zero\")\n",
    "    else:\n",
    "        return x // y\n",
    "        \n",
    "divide(10,0)\n"
   ]
  },
  {
   "cell_type": "markdown",
   "id": "2db89da0-5cc5-48ab-b727-14bad97b7f6f",
   "metadata": {},
   "source": [
    "### Q5. What are custom exception in pytthon . why do we need custom exception . Explain with an xample\n",
    "\n",
    "Custom exceptions in Python are user-defined exceptions that are created to represent specific errors or exceptional situations that are not covered by the built-in exceptions in Python. \n",
    "\n",
    "Custom exceptions are useful when you need to handle specific types of errors in your code and want to provide more context and information about the error.\n",
    "\n",
    "Example\n",
    "\n",
    "```\n",
    "class validate_age(Exception) :\n",
    "    \n",
    "     def __init__(self, msg):\n",
    "            self.msg = msg\n",
    "            \n",
    "\n",
    "def validate_age(age) : \n",
    "    if age < 0:\n",
    "        raise validate_age(\"Entered age is negative\")\n",
    "    elif age>150 :\n",
    "        raise validate_age(\"Entered age is too high\")\n",
    "    else : \n",
    "        print(\"Age is Valid\")\n",
    "\n",
    "```\n",
    "\n"
   ]
  },
  {
   "cell_type": "code",
   "execution_count": 14,
   "id": "87ef4ca5-57b5-4e13-85ad-f05e6317baf9",
   "metadata": {},
   "outputs": [
    {
     "name": "stdin",
     "output_type": "stream",
     "text": [
      "Enter name:  am23\n"
     ]
    },
    {
     "name": "stdout",
     "output_type": "stream",
     "text": [
      "Error : Name is not valid \n"
     ]
    }
   ],
   "source": [
    "## Q6. Create a custom exception class. Use this class to handle the exceptionabs\n",
    "\n",
    "class custom_name_exception(Exception):\n",
    "    def __init__(self, msg):\n",
    "        self.msg = msg\n",
    "        \n",
    "def get_name():\n",
    "    name = input(\"Enter name: \")\n",
    "    if not name.isalpha():\n",
    "        raise custom_name_exception(\"Name is not valid \")\n",
    "    else : \n",
    "        return name\n",
    "    \n",
    "try : \n",
    "    name = get_name()\n",
    "    print(f\"Hello {name}!!\")\n",
    "except custom_name_exception as e :\n",
    "    print(f\"Error : {e.msg}\")\n",
    "        "
   ]
  },
  {
   "cell_type": "code",
   "execution_count": null,
   "id": "893f5520-0090-43e3-90d2-641b759b1600",
   "metadata": {},
   "outputs": [],
   "source": []
  }
 ],
 "metadata": {
  "kernelspec": {
   "display_name": "Python 3 (ipykernel)",
   "language": "python",
   "name": "python3"
  },
  "language_info": {
   "codemirror_mode": {
    "name": "ipython",
    "version": 3
   },
   "file_extension": ".py",
   "mimetype": "text/x-python",
   "name": "python",
   "nbconvert_exporter": "python",
   "pygments_lexer": "ipython3",
   "version": "3.10.8"
  }
 },
 "nbformat": 4,
 "nbformat_minor": 5
}
