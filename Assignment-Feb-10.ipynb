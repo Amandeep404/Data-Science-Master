{
 "cells": [
  {
   "cell_type": "markdown",
   "id": "3c9d2037-a151-4914-adc3-f3189336ed37",
   "metadata": {},
   "source": [
    "### Q1 Which function is used to open a file? What are the different modes of opening a file? Explain each mode of file opening.\n",
    "\n",
    "In Python, the `open()` function is used to open a file. This function takes two arguments: the name of the file to open, and the mode in which to open the file.\n",
    "\n",
    "The different modes of opening a file are:\n",
    "\n",
    "`r` (read mode): This mode is used to read data from a file. The file pointer is placed at the beginning of the file. If the file does not exist, an error is raised.\n",
    "\n",
    "`w` (write mode): This mode is used to write data to a file. If the file exists, its contents are truncated. If the file does not exist, a new file is created.\n",
    "\n",
    "`a` (append mode): This mode is used to append data to the end of a file. If the file exists, the file pointer is placed at the end of the file. If the file does not exist, a new file is created.\n",
    "\n",
    "`x` (exclusive creation mode): This mode is used to create a new file. If the file already exists, an error is raised.\n",
    "\n",
    "`b` (binary mode): This mode is used to open a file in binary mode. This is necessary when working with binary files, such as images or videos.\n",
    "\n",
    "`t` (text mode): This mode is used to open a file in text mode. This is the default mode.\n",
    "\n",
    "`+` (read/write mode): This mode is used to open a file for both reading and writing. The file pointer is placed at the beginning of the file."
   ]
  },
  {
   "cell_type": "markdown",
   "id": "f9ff0ced-036c-412f-8fef-ff27792a63b7",
   "metadata": {},
   "source": [
    "### Q2. Why close() function is used? Why is it important to close a file?\n",
    "\n",
    "In Python, the `close()` method is used to close a file object that was previously opened using the open() method. It is important to close a file after it has been opened because:\n",
    "\n",
    "* Release of system resources: When a file is opened, the operating system allocates certain system resources, such as file descriptors, to the file. If the file is not closed properly, these system resources may not be released immediately, which can cause issues such as resource leaks, errors, and crashes.\n",
    "\n",
    "* Write buffering: If a file is opened in write mode, the close() method flushes any remaining data in the write buffer to the file before closing it. If the buffer is not flushed and the file is not closed properly, the data in the buffer may be lost.\n",
    "\n",
    "* File locking: If a file is opened in write mode, it may be locked by the operating system to prevent other processes from accessing it while it is being written to. If the file is not closed properly, the lock may not be released, which can cause issues such as file corruption or data loss.\n",
    "\n",
    "Therefore, it is important to always close files after they have been opened and used.\n"
   ]
  },
  {
   "cell_type": "code",
   "execution_count": 6,
   "id": "e934d291-2885-4d4b-a44c-d3b9105c36a3",
   "metadata": {},
   "outputs": [],
   "source": [
    "# Q3. Write a python program to create a text file. Write ‘I want to become a Data Scientist’ in that file. \n",
    "#     Then close the file. Open this file and read the content of the file.\n",
    "\n",
    "f = open(\"assignment.txt\", 'w')"
   ]
  },
  {
   "cell_type": "code",
   "execution_count": 7,
   "id": "9fc48ecd-df59-4c71-96d4-25aa49f3fb62",
   "metadata": {},
   "outputs": [],
   "source": [
    "f.write(\"I want to become a Data Scientist \" )\n",
    "f.close()"
   ]
  },
  {
   "cell_type": "code",
   "execution_count": 8,
   "id": "f5eb31bd-a49d-4067-8826-eaa15ef66780",
   "metadata": {},
   "outputs": [],
   "source": [
    "data = open('assignment.txt', 'r')"
   ]
  },
  {
   "cell_type": "code",
   "execution_count": 9,
   "id": "da1edac0-30c3-4069-a2ea-60f74a9b3f8f",
   "metadata": {},
   "outputs": [
    {
     "data": {
      "text/plain": [
       "'I want to become a Data Scientist '"
      ]
     },
     "execution_count": 9,
     "metadata": {},
     "output_type": "execute_result"
    }
   ],
   "source": [
    "data.read()"
   ]
  },
  {
   "cell_type": "code",
   "execution_count": 29,
   "id": "a4f8ec08-a938-43fb-816c-3bec17a4c85e",
   "metadata": {},
   "outputs": [
    {
     "name": "stdout",
     "output_type": "stream",
     "text": [
      "read() method: The read() method is used to read the entire contents of a file into a string. \n",
      " It reads from the current file position until the end of the file, or until the number of bytes specified as an argument has been read (if an argument is provided). Here is an example:\n"
     ]
    }
   ],
   "source": [
    "# Q4. Explain the following with python code: read(), readline() and readlines().\n",
    "\n",
    "f = open('test.txt', 'w')\n",
    "f.write(\"read() method: The read() method is used to read the entire contents of a file into a string. \\n It reads from the current file position until the end of the file, or until the number of bytes specified as an argument has been read (if an argument is provided). Here is an example:\")\n",
    "f.close()\n",
    "\n",
    "#####read(): \n",
    "# open a file in read mode\n",
    "file = open('test.txt', 'r')\n",
    "\n",
    "content = file.read()\n",
    "\n",
    "file.close()\n",
    "\n",
    "print(content)\n",
    "\n",
    "\n",
    "\n"
   ]
  },
  {
   "cell_type": "code",
   "execution_count": 33,
   "id": "10211c40-906c-49df-983e-5efa5bd283ad",
   "metadata": {},
   "outputs": [
    {
     "name": "stdout",
     "output_type": "stream",
     "text": [
      "read() method: The read() method is used to read the entire contents of a file into a string. \n",
      "\n",
      "#####################\n",
      "\n",
      " It reads from the current file position until the end of the file, or until the number of bytes specified as an argument has been read (if an argument is provided). Here is an example:\n"
     ]
    }
   ],
   "source": [
    "## The readline() method is used to read a single line of a file at a time. It reads from the current file position until it reaches the end of the line, or until the number of bytes specified as an argument has been read (if an argument is provided). \n",
    "\n",
    "file = open('test.txt', 'r')\n",
    "\n",
    "line1 = file.readline()\n",
    "\n",
    "line2 = file.readline()\n",
    "\n",
    "file.close()\n",
    "\n",
    "print(line1)\n",
    "print(\"#####################\\n\")\n",
    "print(line2)\n",
    "\n",
    "\n"
   ]
  },
  {
   "cell_type": "code",
   "execution_count": 38,
   "id": "916823b5-0e0f-4dc8-8293-b02c71c5a470",
   "metadata": {},
   "outputs": [
    {
     "name": "stdout",
     "output_type": "stream",
     "text": [
      "read() method: The read() method is used to read the entire contents of a file into a string. \n",
      "\n",
      " It reads from the current file position until the end of the file, or until the number of bytes specified as an argument has been read (if an argument is provided). Here is an example:\n"
     ]
    }
   ],
   "source": [
    "## readlines() method: The readlines() method is used to read all the lines of a file into a list of strings. It reads from the current file position until the end of the file, and returns a list of strings, where each string is a line from the file. \n",
    "\n",
    "file = open('test.txt', 'r')\n",
    "\n",
    "lines = file.readlines()\n",
    "\n",
    "file.close()\n",
    "\n",
    "for line in lines:\n",
    "    print(line)\n"
   ]
  },
  {
   "cell_type": "markdown",
   "id": "3f41076c-3c58-4281-b62d-6ecc73629086",
   "metadata": {},
   "source": [
    "### Q5. Explain why with statement is used with open(). What is the advantage of using with statement and open() together?\n",
    "\n",
    "The with statement in Python is used to automatically close a file after it has been used. When you open a file using the open() function, you need to remember to close it when you're done. This is important because leaving a file open can tie up system resources and cause problems with other programs that need to access the file.\n",
    "\n",
    "```\n",
    "with open(\"example.txt\", \"r\") as file:\n",
    "    # Do something with the file\n",
    "    data = file.read()\n",
    "    print(data)\n",
    "# The file is automatically closed when the block ends\n",
    "\n",
    "```"
   ]
  },
  {
   "cell_type": "markdown",
   "id": "fcfda965-66e8-4c27-bdb1-66b9834c00e5",
   "metadata": {},
   "source": [
    "### Q6. Explain the write() and writelines() functions. Give a suitable example.\n",
    "\n",
    "The `write()` function is used to write a single string to a file. If the file already exists, the contents of the file are overwritten. If the file does not exist, a new file is created.\n",
    "\n",
    "```\n",
    "file = open(\"example.txt\", \"w\")\n",
    "\n",
    "file.write(\"Hello, world!\\n\")\n",
    "\n",
    "file.close()\n",
    "\n",
    "```\n",
    "\n",
    "The `writelines()` function, on the other hand, is used to write a list of strings to a file. Each string in the list is written to the file as a separate line. \n",
    "\n",
    "```\n",
    "file = open(\"example.txt\", \"w\")\n",
    "\n",
    "lines = [\"Line 1\\n\", \"Line 2\\n\", \"Line 3\\n\"]\n",
    "file.writelines(lines)\n",
    "\n",
    "file.close()\n",
    "\n",
    "```"
   ]
  },
  {
   "cell_type": "code",
   "execution_count": null,
   "id": "416b956a-9742-42e2-a44c-2d3b66c92657",
   "metadata": {},
   "outputs": [],
   "source": []
  }
 ],
 "metadata": {
  "kernelspec": {
   "display_name": "Python 3 (ipykernel)",
   "language": "python",
   "name": "python3"
  },
  "language_info": {
   "codemirror_mode": {
    "name": "ipython",
    "version": 3
   },
   "file_extension": ".py",
   "mimetype": "text/x-python",
   "name": "python",
   "nbconvert_exporter": "python",
   "pygments_lexer": "ipython3",
   "version": "3.10.8"
  }
 },
 "nbformat": 4,
 "nbformat_minor": 5
}
