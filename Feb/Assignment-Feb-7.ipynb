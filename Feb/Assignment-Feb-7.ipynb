{
 "cells": [
  {
   "cell_type": "code",
   "execution_count": 24,
   "id": "cc85abf4-76ff-4b7b-a606-a6f98bd0e9d1",
   "metadata": {},
   "outputs": [
    {
     "name": "stdout",
     "output_type": "stream",
     "text": [
      "**Points to be noted:** \n",
      "1. The Password should contain at least two uppercase letters and at least two lowercase letters. \n",
      "2. The Password should contain at least a number and three special characters.\n",
      "3. The length of the password should be 10 characters long.\n"
     ]
    },
    {
     "name": "stdin",
     "output_type": "stream",
     "text": [
      "Enter Password:  dddsdffde\n"
     ]
    },
    {
     "name": "stdout",
     "output_type": "stream",
     "text": [
      "Password must be atleast 10 chatracters long\n",
      "Invalid Password\n"
     ]
    }
   ],
   "source": [
    "1.\n",
    "upper = 0\n",
    "lower = 0\n",
    "num = 0\n",
    "spec_char = 0\n",
    "\n",
    "special_characters = '!@#$%^&*()-_+={}[]|\\:;<>,.?/~`'\n",
    "\n",
    "note = \"**Points to be noted:** \\n1. The Password should contain at least two uppercase letters and at least two lowercase letters. \\n2. The Password should contain at least a number and three special characters.\\n3. The length of the password should be 10 characters long.\"\n",
    "\n",
    "print(note)\n",
    "psw = input(\"Enter Password: \")\n",
    "\n",
    "\n",
    "if psw.isspace():\n",
    "    print(\"Invalid Password\")\n",
    "    print(\"here\")\n",
    "elif len(psw)==10:\n",
    "        for i in psw:\n",
    "            if i.isupper():\n",
    "                upper+=1\n",
    "            elif i.islower():\n",
    "                lower+=1\n",
    "            elif i.isnumeric():\n",
    "                num+=1\n",
    "            elif i in special_characters :\n",
    "                spec_char+=1\n",
    "                \n",
    "elif len(psw) != 10:\n",
    "    print(\"Password must be 10 chatracters long\")\n",
    "    \n",
    "                \n",
    "            \n",
    "if upper>1 and lower>1 and num>0 and spec_char>2:\n",
    "    print(\"Passwprd is valid\")\n",
    "else : print(\"Invalid Password\")  "
   ]
  },
  {
   "cell_type": "code",
   "execution_count": 53,
   "id": "83dbbc18-0a09-476a-b5e6-0fec49c478f1",
   "metadata": {},
   "outputs": [
    {
     "name": "stdin",
     "output_type": "stream",
     "text": [
      "Type String:  Bcd\n"
     ]
    },
    {
     "data": {
      "text/plain": [
       "False"
      ]
     },
     "execution_count": 53,
     "metadata": {},
     "output_type": "execute_result"
    }
   ],
   "source": [
    "2.\n",
    "#Check if the string starts with a particular letter\n",
    "s = input(\"Type String: \")\n",
    "check = lambda a:print(\"Yes..String starts with Y\") if s[0]=='Y' or s[0]=='y' else False\n",
    "check(s)"
   ]
  },
  {
   "cell_type": "code",
   "execution_count": null,
   "id": "61163a39-f009-4506-a879-29646c734425",
   "metadata": {},
   "outputs": [],
   "source": []
  },
  {
   "cell_type": "code",
   "execution_count": 56,
   "id": "bc272d5b-748b-4e8e-a1ba-c85dbcd7bcdb",
   "metadata": {},
   "outputs": [
    {
     "name": "stdin",
     "output_type": "stream",
     "text": [
      "Type string: fdf3e\n"
     ]
    },
    {
     "data": {
      "text/plain": [
       "False"
      ]
     },
     "execution_count": 56,
     "metadata": {},
     "output_type": "execute_result"
    }
   ],
   "source": [
    "#Check if the string is numeric\n",
    "s = input(\"Type string:\")\n",
    "check = lambda a:print(\"Yes the string is numeric\") if s.isnumeric() else False\n",
    "check(s)"
   ]
  },
  {
   "cell_type": "code",
   "execution_count": 8,
   "id": "9307bf2a-cee1-4835-90fb-9c024b090f92",
   "metadata": {},
   "outputs": [
    {
     "data": {
      "text/plain": [
       "[('orange', 80), ('mango', 99), ('grapes', 1000)]"
      ]
     },
     "execution_count": 8,
     "metadata": {},
     "output_type": "execute_result"
    }
   ],
   "source": [
    "#Sort a list of tuples having fruit names and their quantity.\n",
    "t = [(\"mango\",99),(\"orange\",80), (\"grapes\", 1000)]\n",
    "\n",
    "t.sort(key=lambda x:x[1])\n",
    "t\n",
    "\n"
   ]
  },
  {
   "cell_type": "code",
   "execution_count": 14,
   "id": "348d87f1-01df-4e4e-a559-431fe860e42f",
   "metadata": {},
   "outputs": [
    {
     "name": "stdout",
     "output_type": "stream",
     "text": [
      "Square of numbers from 0 to 10: [0, 1, 4, 9, 16, 25, 36, 49, 64, 81]\n",
      "Cube root of numbers from 0 to 10: [0.0, 1.0, 1.2599210498948732, 1.4422495703074083, 1.5874010519681994, 1.7099759466766968, 1.8171205928321397, 1.912931182772389, 2.0, 2.080083823051904]\n"
     ]
    }
   ],
   "source": [
    "# Find the squares of numbers from 1 to 10\n",
    "i  = list(range(10))\n",
    "print(\"Square of numbers from 0 to 10:\", list(map(lambda x:x**2,i)) )\n",
    "\n",
    "#Find the cube root of numbers from 1 to 10\n",
    "print(\"Cube root of numbers from 0 to 10:\", list(map(lambda x:x**(1/3),i)) )"
   ]
  },
  {
   "cell_type": "code",
   "execution_count": 16,
   "id": "bc813334-51e1-407d-b25d-3bb296e86ae7",
   "metadata": {},
   "outputs": [
    {
     "name": "stdin",
     "output_type": "stream",
     "text": [
      "Enter your number:  23\n"
     ]
    },
    {
     "name": "stdout",
     "output_type": "stream",
     "text": [
      "Number is odd\n"
     ]
    }
   ],
   "source": [
    "#Check if a given number is even\n",
    "val = int(input(\"Enter your number: \"))\n",
    "is_even = lambda x: print(\"Number is Even\") if x%2==0 else print(\"Number is odd\")\n",
    "is_even(val)"
   ]
  },
  {
   "cell_type": "code",
   "execution_count": 20,
   "id": "3fdccc90-2d78-48ba-8127-eaf5f54b7901",
   "metadata": {},
   "outputs": [
    {
     "data": {
      "text/plain": [
       "[2, 4, 6, 8, 10]"
      ]
     },
     "execution_count": 20,
     "metadata": {},
     "output_type": "execute_result"
    }
   ],
   "source": [
    "#Filter odd numbers from the given list\n",
    "\n",
    "l = [1,2,3,4,5,6,7,8,9,10]\n",
    "list(filter(lambda x : x%2==0, l))"
   ]
  },
  {
   "cell_type": "code",
   "execution_count": 23,
   "id": "48c7685e-207c-417e-98ea-4e80ee9ded43",
   "metadata": {},
   "outputs": [
    {
     "name": "stdout",
     "output_type": "stream",
     "text": [
      "Positive List: [1, 2, 3, 4, 5, 6, 0]\n",
      "Negative List: [-1, -2, -3, -4, -5]\n"
     ]
    }
   ],
   "source": [
    "#Sort a list of integers into positive and negative integers lists\n",
    "\n",
    "l = [1,2,3,4,5,6,-1,-2,-3,-4,-5,0]\n",
    "positive_list = [x for x in l if x>=0]\n",
    "negative_list = [x for x in l if x<0]\n",
    "\n",
    "print(\"Positive List:\", positive_list)\n",
    "print(\"Negative List:\", negative_list)\n"
   ]
  },
  {
   "cell_type": "code",
   "execution_count": null,
   "id": "e8cc754b-1b1f-4f1f-a2fe-311f7e09d12b",
   "metadata": {},
   "outputs": [],
   "source": []
  }
 ],
 "metadata": {
  "kernelspec": {
   "display_name": "Python 3 (ipykernel)",
   "language": "python",
   "name": "python3"
  },
  "language_info": {
   "codemirror_mode": {
    "name": "ipython",
    "version": 3
   },
   "file_extension": ".py",
   "mimetype": "text/x-python",
   "name": "python",
   "nbconvert_exporter": "python",
   "pygments_lexer": "ipython3",
   "version": "3.10.8"
  }
 },
 "nbformat": 4,
 "nbformat_minor": 5
}
