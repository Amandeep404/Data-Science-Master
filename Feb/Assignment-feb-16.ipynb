{
 "cells": [
  {
   "cell_type": "markdown",
   "id": "3cd342ec-65bf-46e5-b8ec-4d997efcc097",
   "metadata": {},
   "source": [
    "Q1. What is a database? Differentiate between SQL and NoSQL databases.\n",
    "\n",
    "A database is a collection of data that is organized in a way that makes it easy to access, manage, and update. It is designed to store and retrieve large amounts of data quickly and efficiently.\n",
    "\n",
    "* SQL databases are relational databases that store data in tables with pre-defined relationships between them. The data is organized into rows and columns, and the relationships between tables are established using keys. \n",
    "\n",
    "* NoSQL databases, on the other hand, are non-relational databases that store data in a more flexible, unstructured way. They are designed to handle large amounts of unstructured and semi-structured data, such as social media posts, emails, and documents."
   ]
  },
  {
   "cell_type": "markdown",
   "id": "ec0e5f94-0968-4330-acd7-0e09e061d47a",
   "metadata": {},
   "source": [
    "Q2. What is DDL? Explain why CREATE, DROP, ALTER, and TRUNCATE are used with an example.\n",
    "\n",
    "DDL stands for Data Definition Language. It is a subset of SQL used to define and manipulate the structure of a database. DDL statements are used to create, modify, and delete objects in the database, such as tables, indexes, views, and procedures.\n",
    "\t\n",
    "    1. CREATE: This statement is used to create new objects in the database, such as tables, views, indexes, and procedures. \n",
    "    CREATE TABLE user(\n",
    "    \tid INT PRIMARY KEY,\n",
    "        name VARCHAR(50) NOT NULL,\n",
    "        email VARCHAR(100) UNIQUE\n",
    "    );\n",
    "    \n",
    "    2. DROP: This statement is used to delete objects from the database, such as tables, views, and indexes.\n",
    "    DROP TABLE user ; \n",
    "\n",
    "\t3. ALTER: This statement is used to modify the structure of an existing object in the database, such as adding or removing columns from a table. For example, the following statement adds a new column named \"phone\" to the \"users\" table:\n",
    "\t\tALTER TABLE user ADD COLUMN phone VARCHAR(40) ; \n",
    "        \n",
    "\t4. TRUNCATE: This statement is used to delete all the data from a table while keeping its structure intact. It is faster than using the DELETE statement because it doesn't log each individual row deletion. For example, the following statement deletes all the data from the \"users\" table:\n",
    "   \t\tTRUNCATE TABLE user ; "
   ]
  },
  {
   "cell_type": "markdown",
   "id": "b93b8e0a-8bbd-4a87-8e24-627e486638ae",
   "metadata": {},
   "source": [
    "DML stands for Data Manipulation Language. It is a subset of SQL used to insert, update, and delete data in a database. DML statements are used to modify the data within the objects defined by DDL statements.\n",
    "\n",
    "\n",
    "INSERT: This statement is used to insert new data into a table. For example, the following statement inserts a new row into the \"users\" table:\n",
    "\n",
    "```INSERT INTO users (id, name, email) VALUES (1, 'John Doe', 'john@example.com');```\n",
    "\n",
    "UPDATE: This statement is used to modify existing data in a table. For example, the following statement updates the email of the user with id 1:\n",
    "\n",
    "```UPDATE users SET email='johndoe@example.com' WHERE id=1;```\n",
    "\n",
    "DELETE: This statement is used to delete data from a table. For example, the following statement deletes the user with id 1 from the \"users\" table:\n",
    "\n",
    "```DELETE FROM users WHERE id=1;```"
   ]
  },
  {
   "cell_type": "markdown",
   "id": "3c99ee33-1440-4a1c-96b8-dd2a192b9700",
   "metadata": {},
   "source": [
    "Q4. What is DQL? Explain SELECT with an example.\n",
    "\n",
    "DQL stands for Data Query Language, and it is a subset of SQL (Structured Query Language) used to retrieve data from a database. DQL commands allow users to search, filter, and sort data in a database.\n",
    "\n",
    "SELECT is a DQL command used to retrieve data from one or more tables in a database. The basic syntax for SELECT is as follows:\n",
    "\n",
    "```SELECT colum1 FROM table_name WHERE id=1 ; ```"
   ]
  },
  {
   "cell_type": "markdown",
   "id": "dd361c9c-311b-4d96-91bf-5ed40f23314d",
   "metadata": {},
   "source": [
    "Q5. Explain Primary Key and Foreign Key.\n",
    "\n",
    "A primary key is a column or set of columns in a table that uniquely identifies each row in that table. It cannot contain null values and must be unique within the table. A primary key constraint ensures that there are no duplicate records in the table. Primary keys are used to establish relationships between tables in a database.\n",
    "\n",
    "A foreign key is a column or set of columns in one table that refers to the primary key of another table. It establishes a relationship between two tables, allowing data to be retrieved from both tables using a join. A foreign key constraint ensures that data entered into the foreign key column matches the values in the primary key column of the related table."
   ]
  },
  {
   "cell_type": "markdown",
   "id": "902a35be-b3bf-4391-8592-71fddf8de19b",
   "metadata": {},
   "source": [
    "Q6. Write a python code to connect MySQL to python. Explain the cursor() and execute() method.\n",
    "\n",
    "``` import mysql.connector\n",
    "\n",
    "mydb = mysql.connector.connect(\n",
    "  host=\"localhost\",\n",
    "  user=\"abc\",\n",
    "  password=\"password\"\n",
    ")\n",
    "mycursor = mydb.cursor()\n",
    "mycursor.execute(\"CREATE TABLE if not exists test_databse.test_table(c1 INT , c2 VARCHAR(39), c3 INT)\")\n",
    "\n",
    "mydb.close()\n",
    "```\n",
    "\n",
    "In this code, we first establish a connection to the MySQL database by providing the host name, username, password, and database name. Then, we create a cursor object using the cursor() method.\n",
    "\n",
    "Next, we use the execute() method of the cursor object to execute a SQL statement. In this example, we execute a simple SELECT statement that retrieves all rows from a table called \"mytable\". The execute() method returns no value."
   ]
  },
  {
   "cell_type": "markdown",
   "id": "569237a5-9cd3-4f20-ad33-5c72517e55d7",
   "metadata": {},
   "source": [
    "Q7. Give the order of execution of SQL clauses in an SQL query.\n",
    "\n",
    "* FROM: Specifies the table or tables to be queried.\n",
    "\n",
    "* JOIN: Combines rows from two or more tables based on a related column between them.\n",
    "\n",
    "* WHERE: Filters rows based on a condition.\n",
    "\n",
    "* GROUP BY: Groups rows based on a common value in one or more columns.\n",
    "\n",
    "* HAVING: Filters groups based on a condition.\n",
    "\n",
    "* SELECT: Selects specific columns or expressions to be returned in the query result.\n",
    "\n",
    "* DISTINCT: Removes duplicate rows from the query result.\n",
    "\n",
    "* ORDER BY: Sorts the query result by one or more columns.\n",
    "\n",
    "* LIMIT: Limits the number of rows returned by the query."
   ]
  },
  {
   "cell_type": "code",
   "execution_count": null,
   "id": "3d71f083-31b1-41f7-8985-5632389ff0b8",
   "metadata": {},
   "outputs": [],
   "source": []
  }
 ],
 "metadata": {
  "kernelspec": {
   "display_name": "Python 3 (ipykernel)",
   "language": "python",
   "name": "python3"
  },
  "language_info": {
   "codemirror_mode": {
    "name": "ipython",
    "version": 3
   },
   "file_extension": ".py",
   "mimetype": "text/x-python",
   "name": "python",
   "nbconvert_exporter": "python",
   "pygments_lexer": "ipython3",
   "version": "3.10.8"
  }
 },
 "nbformat": 4,
 "nbformat_minor": 5
}
