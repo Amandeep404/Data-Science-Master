{
 "cells": [
  {
   "cell_type": "code",
   "execution_count": 19,
   "id": "12b795b0-4b34-48d5-ade7-ce5f891857b1",
   "metadata": {},
   "outputs": [
    {
     "name": "stdout",
     "output_type": "stream",
     "text": [
      "The flat list is: [1, 2, 3, 4, 44, 55, 66, 34, 56, 78, 89, 34, 1, 2, 3, 1, 34, 55, 67, 78, 89, 4, 45, 22, 61, 34, 56]\n",
      "The product of all the numbers in the list is: 4134711838987085478833841242112000\n"
     ]
    }
   ],
   "source": [
    "1.\n",
    "\n",
    "l = [1,2,3,4, [44,55,66, True], False, (34,56,78,89,34), {1,2,3,3,2,1}, {1:34, \"key2\": [55, 67, 78, 89], 4: (45,\n",
    "22, 61, 34)}, [56, 'data science'], 'Machine Learning']\n",
    "\n",
    "l1 = []\n",
    "product = 1\n",
    "\n",
    "for i in l:\n",
    "    if type(i)==int :\n",
    "        l1.append(i)\n",
    "    elif type(i) == list or type(i)==tuple or type(i)==set: \n",
    "        for j in i:\n",
    "            if type(j)==int:\n",
    "                l1.append(j)\n",
    "    elif type(i) == dict :\n",
    "        for key,value in i.items():\n",
    "            if type(key)==int:\n",
    "                l1.append(key)\n",
    "            if type(value) == int:\n",
    "                l1.append(value)\n",
    "            if type(value) == list or type(value)==tuple:\n",
    "                for j in value : \n",
    "                    if type(j)==int :\n",
    "                        l1.append(j)\n",
    "                    \n",
    "for i in l1:\n",
    "    product*=i\n",
    "    \n",
    "print(\"The flat list is:\", l1)   \n",
    "print(\"The product of all the numbers in the list is:\", product)\n",
    "    \n",
    "                \n",
    "            "
   ]
  },
  {
   "cell_type": "code",
   "execution_count": null,
   "id": "67720bea-1a8c-497a-af6c-18a84193304a",
   "metadata": {},
   "outputs": [],
   "source": []
  },
  {
   "cell_type": "code",
   "execution_count": 58,
   "id": "6e2afbc3-f5d9-49a1-a4c7-fe4d35fdc03c",
   "metadata": {},
   "outputs": [
    {
     "name": "stdout",
     "output_type": "stream",
     "text": [
      "r$dzmg$gl$yvxlnv$z$wzgz$hxrvmgrhg\n"
     ]
    }
   ],
   "source": [
    "2.\n",
    "string = \"I want to become a Data Scientist.\"\n",
    "encrypted_msg = \"\"\n",
    "\n",
    "for i in string:\n",
    "    if i.isalpha():\n",
    "        i = chr(ord('a') + (ord('z') - ord(i.lower())))\n",
    "        encrypted_msg+=i\n",
    "    elif i.isspace():\n",
    "        i = '$'\n",
    "        encrypted_msg+=i\n",
    "        \n",
    "print(encrypted_msg)"
   ]
  },
  {
   "cell_type": "code",
   "execution_count": null,
   "id": "8a7a1106-7d76-49ec-b7e6-d1b0140adc78",
   "metadata": {},
   "outputs": [],
   "source": []
  }
 ],
 "metadata": {
  "kernelspec": {
   "display_name": "Python 3 (ipykernel)",
   "language": "python",
   "name": "python3"
  },
  "language_info": {
   "codemirror_mode": {
    "name": "ipython",
    "version": 3
   },
   "file_extension": ".py",
   "mimetype": "text/x-python",
   "name": "python",
   "nbconvert_exporter": "python",
   "pygments_lexer": "ipython3",
   "version": "3.10.8"
  }
 },
 "nbformat": 4,
 "nbformat_minor": 5
}
