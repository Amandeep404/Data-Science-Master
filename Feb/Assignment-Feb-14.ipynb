{
 "cells": [
  {
   "cell_type": "markdown",
   "id": "8fece3ef-6fb7-4927-bbb7-f60b477741f8",
   "metadata": {},
   "source": [
    "### Q1.What is multithreading in python? Why is it used? Name the module used to handle threads in python\n",
    "\n",
    "Multithreading in Python is a way to execute multiple threads (smaller units of a program) concurrently within a single process. Each thread runs in parallel, independently of the others, and shares the same resources such as memory, CPU, and files.\n",
    "\n",
    "Multithreading is used to improve the performance of a program by utilizing the available resources of the system. It is particularly useful for tasks that involve a lot of I/O or waiting, such as downloading files, reading from a database, or interacting with the user interface. By using multiple threads, the program can perform several tasks at the same time, which can significantly reduce the total execution time.\n",
    "\n",
    "The module used to handle threads in Python is called `threading`."
   ]
  },
  {
   "cell_type": "markdown",
   "id": "f7c23f56-3ba4-4202-8c35-d0fe65eec991",
   "metadata": {},
   "source": [
    "### Q2. Why threading module used? Write the use of the following functions \n",
    " activeCount()\n",
    " currentThread()\n",
    " enumerate()\n",
    " \n",
    " \n",
    " The threading module in Python is used for creating and managing threads in a program.\n",
    "\n",
    "`activeCount()`: This function returns the number of active threads in the current thread's thread group. This can be useful for debugging and monitoring the status of threads in a program.\n",
    "\n",
    "`currentThread()`: This function returns a reference to the current thread object. This can be used to get information about the current thread, such as its name, ID, and state.\n",
    "\n",
    "`enumerate()`: This function returns a list of all thread objects that are currently alive. This can be useful for iterating over all threads in a program and performing operations on them, such as joining or terminating them."
   ]
  },
  {
   "cell_type": "code",
   "execution_count": 1,
   "id": "543a63ac-590e-4ae9-86d1-72278cc9de2e",
   "metadata": {},
   "outputs": [],
   "source": [
    "import threading"
   ]
  },
  {
   "cell_type": "code",
   "execution_count": 5,
   "id": "e3459649-98ca-40ca-8959-674902ab9887",
   "metadata": {},
   "outputs": [
    {
     "name": "stdout",
     "output_type": "stream",
     "text": [
      "<function current_thread at 0x7ff73f599480> 0\n",
      "<function current_thread at 0x7ff73f599480> 1\n",
      "<function current_thread at 0x7ff73f599480> 2\n",
      "<function current_thread at 0x7ff73f599480> 3\n",
      "<function current_thread at 0x7ff73f599480> 4\n",
      "<function current_thread at 0x7ff73f599480> 5\n",
      "<function current_thread at 0x7ff73f599480> 6\n",
      "<function current_thread at 0x7ff73f599480> 7\n",
      "<function current_thread at 0x7ff73f599480> 8\n",
      "<function current_thread at 0x7ff73f599480> 9\n",
      "<function current_thread at 0x7ff73f599480> 0\n",
      "<function current_thread at 0x7ff73f599480> 1\n",
      "<function current_thread at 0x7ff73f599480> 2\n",
      "<function current_thread at 0x7ff73f599480> 3\n",
      "<function current_thread at 0x7ff73f599480> 4\n",
      "<function current_thread at 0x7ff73f599480> 5\n",
      "<function current_thread at 0x7ff73f599480> 6\n",
      "<function current_thread at 0x7ff73f599480> 7\n",
      "<function current_thread at 0x7ff73f599480> 8\n",
      "<function current_thread at 0x7ff73f599480> 9\n",
      "Number of active threads:  8\n",
      "All live threads:  [<_MainThread(MainThread, started 140699901937472)>, <Thread(IOPub, started daemon 140699831408192)>, <Heartbeat(Heartbeat, started daemon 140699823015488)>, <Thread(Thread-3 (_watch_pipe_fd), started daemon 140699797837376)>, <Thread(Thread-4 (_watch_pipe_fd), started daemon 140699789444672)>, <ControlThread(Control, started daemon 140699437626944)>, <HistorySavingThread(IPythonHistorySavingThread, started 140699429234240)>, <ParentPollerUnix(Thread-2, started daemon 140699420841536)>]\n"
     ]
    }
   ],
   "source": [
    "def print_numbers():\n",
    "    for i in range(10):\n",
    "        print(threading.current_thread, i)\n",
    "        \n",
    "t1 = threading.Thread(target=print_numbers)\n",
    "t2 = threading.Thread(target= print_numbers)\n",
    "\n",
    "t1.start()\n",
    "t2.start()\n",
    "\n",
    "print(\"Number of active threads: \", threading.active_count())\n",
    "\n",
    "\n",
    "threads = threading.enumerate()\n",
    "print(\"All live threads: \", threads)"
   ]
  },
  {
   "cell_type": "markdown",
   "id": "52354110-548b-4d20-90ab-ea8123fc0d2b",
   "metadata": {},
   "source": [
    "### Q3. Explain the following functions\n",
    "\trun()\n",
    "\tstart()\n",
    " \tjoin()\n",
    "\tisAlive()\n",
    "\n",
    "run(): This method is called when a thread is started using the start() method. It contains the code that the thread will execute. This method can be overridden in a subclass to provide custom functionality.\n",
    "\n",
    "start(): This method starts the thread's activity. It should be called once per thread object to start the thread. The start() method calls the thread's run() method in a separate thread of control.\n",
    "\n",
    "join(): This method waits for the thread to complete its execution. If the thread has not completed its execution, the join() method blocks the calling thread until the thread terminates. The optional timeout parameter specifies the maximum amount of time to wait for the thread to complete.\n",
    "\n",
    "isAlive(): This method returns a boolean value that indicates whether the thread is currently executing or has finished executing. If the thread is still running, isAlive() returns True. If the thread has completed its execution, isAlive() returns False."
   ]
  },
  {
   "cell_type": "code",
   "execution_count": 6,
   "id": "a4592b7f-b70c-46b4-a1d3-a2cc08e31b5f",
   "metadata": {},
   "outputs": [],
   "source": [
    "import time"
   ]
  },
  {
   "cell_type": "code",
   "execution_count": 9,
   "id": "88bfa6c9-2760-4c4e-b787-3d64ef058ee1",
   "metadata": {},
   "outputs": [
    {
     "name": "stdout",
     "output_type": "stream",
     "text": [
      "Worker thread started\n",
      "Worker thread finished after 3 seconds\n",
      "Is thread alive ?  False\n"
     ]
    }
   ],
   "source": [
    "def worker():\n",
    "    print(\"Worker thread started\")\n",
    "    time.sleep(3)\n",
    "    print(\"Worker thread finished after 3 seconds\")\n",
    "    \n",
    "t = threading.Thread(target=worker)\n",
    "t.start()\n",
    "\n",
    "#waits for thread to finish\n",
    "t.join()\n",
    "\n",
    "print(\"Is thread alive ? \",  t.is_alive())"
   ]
  },
  {
   "cell_type": "code",
   "execution_count": 22,
   "id": "4aadf609-9aab-44b3-aac3-b7bf577e5d0a",
   "metadata": {},
   "outputs": [
    {
     "name": "stdin",
     "output_type": "stream",
     "text": [
      "Enter number:  6\n"
     ]
    },
    {
     "name": "stdout",
     "output_type": "stream",
     "text": [
      "[1, 4, 9, 16, 25, 36]\n",
      "[1, 8, 27, 64, 125, 216]\n",
      "Done\n"
     ]
    }
   ],
   "source": [
    "## 4. write a python program to create two threads. \n",
    "#Thread one must print the list of squares and thread two must print the list of cubes\n",
    "\n",
    "n = int(input(\"Enter number: \"))\n",
    "l_square = []\n",
    "l_cube = []\n",
    "def square():\n",
    "    for i in range(1,n+1):\n",
    "        l_square.append(i**2)\n",
    "    print(l_square)\n",
    "    \n",
    "def cube():\n",
    "    for i in range(1,n+1):\n",
    "        l_cube.append(i**3)\n",
    "    print(l_cube)\n",
    "        \n",
    "t1 = threading.Thread(target=square)\n",
    "t2 = threading.Thread(target = cube)\n",
    "\n",
    "t1.start()\n",
    "t2.start()\n",
    "\n",
    "t1.join()\n",
    "t2.join()\n",
    "\n",
    "print(\"Done\")\n",
    "        "
   ]
  },
  {
   "cell_type": "markdown",
   "id": "9d6f8e29-2227-4dfd-a541-49038835533d",
   "metadata": {},
   "source": [
    "### Q5. State advantages and disadvantages of multithreading\n",
    "\n",
    "#### Advantages of Multithreading:\n",
    "\n",
    "* Improved Performance: Multithreading can improve the performance of a program by allowing multiple threads to execute concurrently, thus utilizing the available CPU resources more efficiently.\n",
    "\n",
    "* Increased Responsiveness: Multithreading can make a program more responsive by allowing it to perform time-consuming operations in the background while still responding to user input.\n",
    "\n",
    "* Simplified Design: Multithreading can simplify the design of a program by allowing it to be broken down into smaller, more manageable parts that can be executed independently in separate threads.\n",
    "\n",
    "* Resource Sharing: Multithreading allows multiple threads to share resources such as memory and CPU time, which can reduce the overall resource requirements of a program.\n",
    "\n",
    "#### Disadvantages of Multithreading:\n",
    "\n",
    "* Complexity: Multithreading can introduce additional complexity into a program, making it harder to design, implement, and debug.\n",
    "\n",
    "* Synchronization Issues: When multiple threads share resources, there is a risk of synchronization issues, such as race conditions and deadlocks, which can lead to unpredictable behavior and crashes.\n",
    "\n",
    "* Overhead: Multithreading introduces additional overhead in terms of memory and CPU usage, which can reduce the overall performance of a program if not managed properly.\n",
    "\n",
    "* Debugging Difficulties: Debugging multithreaded programs can be challenging due to the non-deterministic behavior introduced by concurrent execution, making it harder to reproduce and diagnose bugs.\n",
    "\n",
    "\n",
    "\n",
    "\n",
    "\n",
    "\n",
    "\n"
   ]
  },
  {
   "cell_type": "markdown",
   "id": "5c7ecb37-ec33-4cbe-a68e-beaced6e9585",
   "metadata": {},
   "source": [
    "### Q6. Explain deadlocks and race conditions.\n",
    "\n",
    "Deadlocks and race conditions are two types of synchronization issues that can occur in concurrent programs that use multiple threads.\n",
    "\n",
    "A deadlock occurs when two or more threads are blocked and waiting for each other to release resources that they both need to proceed. In other words, each thread is waiting for the other to complete before it can continue, resulting in a \"deadlock\" where neither thread can proceed. Deadlocks can be caused by poor synchronization mechanisms or incorrect use of locks, leading to threads blocking each other indefinitely.\n",
    "\n",
    "A race condition occurs when two or more threads access a shared resource simultaneously, and the outcome depends on the order of execution. In other words, the result of the program depends on which thread executes first, and different runs of the program can produce different results. This can lead to unpredictable behavior, such as incorrect results or crashes, and can be difficult to diagnose and reproduce."
   ]
  },
  {
   "cell_type": "code",
   "execution_count": null,
   "id": "a47b9f48-b03f-4e06-a0aa-144316ebb208",
   "metadata": {},
   "outputs": [],
   "source": []
  }
 ],
 "metadata": {
  "kernelspec": {
   "display_name": "Python 3 (ipykernel)",
   "language": "python",
   "name": "python3"
  },
  "language_info": {
   "codemirror_mode": {
    "name": "ipython",
    "version": 3
   },
   "file_extension": ".py",
   "mimetype": "text/x-python",
   "name": "python",
   "nbconvert_exporter": "python",
   "pygments_lexer": "ipython3",
   "version": "3.10.8"
  }
 },
 "nbformat": 4,
 "nbformat_minor": 5
}
