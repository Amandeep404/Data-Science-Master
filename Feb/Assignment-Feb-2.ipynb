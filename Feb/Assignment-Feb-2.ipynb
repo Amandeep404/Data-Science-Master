{
 "cells": [
  {
   "cell_type": "markdown",
   "id": "063f6c15-9740-4f3e-945a-b4e65d6e653f",
   "metadata": {},
   "source": [
    "1. A for loop is used when you have a definite number of iterations, and you know beforehand how many times the loop needs to be executed. For example, if you want to print the numbers from 1 to 10\n",
    "```\n",
    "for i in range(1, 11):\n",
    "    print(i)\n",
    "```\n",
    "On the other hand, a while loop is used when the number of iterations is not known beforehand and the loop needs to be executed until a certain condition is met. For example, you can use a while loop to print the numbers from 1 to 10 as: \n",
    "```\n",
    "i = 1\n",
    "while i <= 10:\n",
    "    print(i)\n",
    "    i += 1\n",
    "\n",
    "```"
   ]
  },
  {
   "cell_type": "code",
   "execution_count": 6,
   "id": "602bdd05-7740-4a5e-a636-a9e852a6c83f",
   "metadata": {},
   "outputs": [
    {
     "name": "stdout",
     "output_type": "stream",
     "text": [
      "The sum of first 10 natutral numbers is:  55\n",
      "The product of first 10 natutral numbers is:  3628800\n"
     ]
    }
   ],
   "source": [
    "2.\n",
    "\n",
    "#Using for loop\n",
    "sum = 0\n",
    "product = 1\n",
    "for i in range(1,11) :\n",
    "    sum += i\n",
    "    product *= i\n",
    "    \n",
    "print(\"The sum of first 10 natutral numbers is: \", sum)\n",
    "print(\"The product of first 10 natutral numbers is: \", product)"
   ]
  },
  {
   "cell_type": "code",
   "execution_count": 27,
   "id": "6d3ee44f-8dcc-46bf-87c5-6288bd8cc6fa",
   "metadata": {},
   "outputs": [
    {
     "name": "stdin",
     "output_type": "stream",
     "text": [
      "Units consumed this month:  322\n"
     ]
    },
    {
     "name": "stdout",
     "output_type": "stream",
     "text": [
      "Total bill:  2490.0 rupees\n"
     ]
    }
   ],
   "source": [
    "3.\n",
    "\n",
    "bill= 0\n",
    "units = int(input(\"Units consumed this month: \"))\n",
    "\n",
    "if units < 0 : \n",
    "    print(\"Units cannot be negative\")\n",
    "elif units <= 100 : \n",
    "    bill =  units*4.5\n",
    "elif units <= 200 :\n",
    "    bill = 100*4.5 + (units - 100)*6\n",
    "elif units <=300 : \n",
    "    bill = 100*4.5 + 100*6 + (units - 200)*10\n",
    "elif units <=400 : \n",
    "    bill =  100*4.5 + 100*6 + 100*10 + (units - 300)*20\n",
    "else : \n",
    "    bill =  100*4.5 + 100*6 + 100*10 + (units - 300)*20\n",
    "\n",
    "print(\"Total bill: \", bill ,\"rupees\")\n",
    "    \n",
    "     "
   ]
  },
  {
   "cell_type": "code",
   "execution_count": 2,
   "id": "0370c44f-dc11-4393-b517-dd4baea28deb",
   "metadata": {},
   "outputs": [
    {
     "name": "stdout",
     "output_type": "stream",
     "text": [
      "[0, 8, 64, 125, 216, 125, 216, 216, 512, 1000, 1728, 2744, 3375, 4096, 3375, 4096, 4096, 5832, 8000, 10648, 13824, 15625, 17576, 15625, 17576, 17576, 21952, 27000, 32768, 39304, 42875, 46656, 42875, 46656, 46656, 54872, 64000, 74088, 85184, 91125, 97336, 91125, 97336, 97336, 110592, 125000, 140608, 157464, 166375, 175616, 166375, 175616, 175616, 195112, 216000, 238328, 262144, 274625, 287496, 274625, 287496, 287496, 314432, 343000, 373248, 405224, 421875, 438976, 421875, 438976, 438976, 474552, 512000, 551368, 592704, 614125, 636056, 614125, 636056, 636056, 681472, 729000, 778688, 830584, 857375, 884736, 857375, 884736, 884736, 941192, 1000000]\n"
     ]
    }
   ],
   "source": [
    "4.\n",
    "\n",
    "l = []\n",
    "required_list = []\n",
    "\n",
    "for i in range(101):\n",
    "    l.append(i)\n",
    "for i in l: \n",
    "    while i**3%4==0 or i**3%5==0 :\n",
    "        required_list.append(i**3)\n",
    "        i+=1\n",
    "print(required_list)"
   ]
  },
  {
   "cell_type": "code",
   "execution_count": 6,
   "id": "a8d2d86d-d395-40a7-8cf8-915b2a3fc019",
   "metadata": {},
   "outputs": [
    {
     "name": "stdout",
     "output_type": "stream",
     "text": [
      "11\n"
     ]
    }
   ],
   "source": [
    "5.\n",
    "\n",
    "string = \"I want to become a data scientist\"\n",
    "count = 0\n",
    "vouwel = \"aeiou\"\n",
    "for i in string:\n",
    "    if i in vouwel :\n",
    "        "
   ]
  },
  {
   "cell_type": "code",
   "execution_count": null,
   "id": "ace3411d-8d6b-4997-9d84-5f9231680f22",
   "metadata": {},
   "outputs": [],
   "source": []
  }
 ],
 "metadata": {
  "kernelspec": {
   "display_name": "Python 3 (ipykernel)",
   "language": "python",
   "name": "python3"
  },
  "language_info": {
   "codemirror_mode": {
    "name": "ipython",
    "version": 3
   },
   "file_extension": ".py",
   "mimetype": "text/x-python",
   "name": "python",
   "nbconvert_exporter": "python",
   "pygments_lexer": "ipython3",
   "version": "3.10.8"
  }
 },
 "nbformat": 4,
 "nbformat_minor": 5
}
