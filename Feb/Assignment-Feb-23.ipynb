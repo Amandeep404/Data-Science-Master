{
 "cells": [
  {
   "cell_type": "code",
   "execution_count": 10,
   "id": "1702ebda-1b0a-4405-a732-4c34784fe5c0",
   "metadata": {},
   "outputs": [],
   "source": [
    "import pandas as pd"
   ]
  },
  {
   "cell_type": "code",
   "execution_count": 11,
   "id": "57f3e009-a2d9-4232-97e2-4631825845c4",
   "metadata": {},
   "outputs": [
    {
     "name": "stdout",
     "output_type": "stream",
     "text": [
      "0     4\n",
      "1     8\n",
      "2    15\n",
      "3    16\n",
      "4    23\n",
      "5    42\n",
      "dtype: int64\n"
     ]
    }
   ],
   "source": [
    "#Q1. Create a Pandas Series that contains the following data: 4, 8, 15, 16, 23, and 42. Then, print the series.\n",
    "\n",
    "a = [4,8,15,16,23,42]\n",
    "series = pd.Series(a)\n",
    "print(series)"
   ]
  },
  {
   "cell_type": "code",
   "execution_count": 12,
   "id": "de844296-7f23-427d-8474-31378f679da4",
   "metadata": {},
   "outputs": [
    {
     "name": "stdout",
     "output_type": "stream",
     "text": [
      "0     1\n",
      "1     2\n",
      "2     3\n",
      "3     4\n",
      "4     5\n",
      "5     6\n",
      "6     7\n",
      "7     8\n",
      "8     9\n",
      "9    10\n",
      "dtype: int64\n"
     ]
    }
   ],
   "source": [
    "#Q2. Create a variable of list type containing 10 elements in it, and apply pandas.Series function on the\n",
    "# variable print it.\n",
    "\n",
    "l = list([1,2,3,4,5,6,7,8,9,10])\n",
    "series_1 = pd.Series(l)\n",
    "print(series_1)"
   ]
  },
  {
   "cell_type": "code",
   "execution_count": 13,
   "id": "29dd1de2-c621-4c08-a516-fc58d6bb6a3a",
   "metadata": {},
   "outputs": [
    {
     "data": {
      "text/html": [
       "<div>\n",
       "<style scoped>\n",
       "    .dataframe tbody tr th:only-of-type {\n",
       "        vertical-align: middle;\n",
       "    }\n",
       "\n",
       "    .dataframe tbody tr th {\n",
       "        vertical-align: top;\n",
       "    }\n",
       "\n",
       "    .dataframe thead th {\n",
       "        text-align: right;\n",
       "    }\n",
       "</style>\n",
       "<table border=\"1\" class=\"dataframe\">\n",
       "  <thead>\n",
       "    <tr style=\"text-align: right;\">\n",
       "      <th></th>\n",
       "      <th>Name</th>\n",
       "      <th>Age</th>\n",
       "      <th>Gender</th>\n",
       "    </tr>\n",
       "  </thead>\n",
       "  <tbody>\n",
       "    <tr>\n",
       "      <th>0</th>\n",
       "      <td>Alice</td>\n",
       "      <td>25</td>\n",
       "      <td>Female</td>\n",
       "    </tr>\n",
       "    <tr>\n",
       "      <th>1</th>\n",
       "      <td>Bob</td>\n",
       "      <td>30</td>\n",
       "      <td>Male</td>\n",
       "    </tr>\n",
       "    <tr>\n",
       "      <th>2</th>\n",
       "      <td>Claire</td>\n",
       "      <td>27</td>\n",
       "      <td>Female</td>\n",
       "    </tr>\n",
       "  </tbody>\n",
       "</table>\n",
       "</div>"
      ],
      "text/plain": [
       "     Name  Age  Gender\n",
       "0   Alice   25  Female\n",
       "1     Bob   30    Male\n",
       "2  Claire   27  Female"
      ]
     },
     "execution_count": 13,
     "metadata": {},
     "output_type": "execute_result"
    }
   ],
   "source": [
    "# Q3. Create a Pandas DataFrame that contains the following data:\n",
    "\n",
    "data = {\n",
    "    \"Name\":['Alice', 'Bob', 'Claire'],\n",
    "    \"Age\":[25,30, 27],\n",
    "    \"Gender\":[\"Female\", \"Male\", \"Female\"]\n",
    "}\n",
    "\n",
    "data_df = pd.DataFrame(data)\n",
    "data_df"
   ]
  },
  {
   "cell_type": "markdown",
   "id": "ce34c32c-3e33-437d-8738-32309a0b7fe9",
   "metadata": {},
   "source": [
    "### Q4. What is ‘DataFrame’ in pandas and how is it different from pandas.series? Explain with an example.\n",
    "\n",
    "In pandas, a DataFrame is a two-dimensional table-like data structure with rows and columns, where each column can have a different data type.A DataFrame can be created using various input formats such as lists, dictionaries, or other DataFrames.\n",
    "\n",
    "On the other hand, a pandas Series is a one-dimensional labeled array that can hold any data type. It is similar to a column in a DataFrame, and can be created using a list or a dictionary."
   ]
  },
  {
   "cell_type": "code",
   "execution_count": 14,
   "id": "a4c4ecf1-1f26-4212-8d5a-cb3b79b5b437",
   "metadata": {},
   "outputs": [
    {
     "name": "stdout",
     "output_type": "stream",
     "text": [
      "SERIES\n",
      "0     4\n",
      "1     8\n",
      "2    15\n",
      "3    16\n",
      "4    23\n",
      "5    42\n",
      "dtype: int64\n",
      "\n",
      "DATAFRAME\n",
      "     Name  Age  Gender\n",
      "0   Alice   25  Female\n",
      "1     Bob   30    Male\n",
      "2  Claire   27  Female\n"
     ]
    }
   ],
   "source": [
    "#Example : \n",
    "print(\"SERIES\")\n",
    "print(series)\n",
    "print(\"\\nDATAFRAME\")\n",
    "print(data_df)"
   ]
  },
  {
   "cell_type": "markdown",
   "id": "c6b6d56b-9283-475e-a377-d0176d7df286",
   "metadata": {},
   "source": [
    "### Q5. What are some common functions you can use to manipulate data in a Pandas DataFrame? Can you give an example of when you might use one of these functions?\n",
    "\n",
    "Pandas provides a wide range of functions to manipulate data in a DataFrame. Some common functions are:\n",
    "\n",
    "1. `head()` and `tail()`: These functions allow you to view the first or last few rows of a DataFrame, respectively. They are useful for quickly checking the structure of a DataFrame or for getting a sense of the data it contains.\n",
    "\n",
    "2. `groupby()`: This function allows you to group the rows of a DataFrame based on the values in one or more columns. You can then apply aggregate functions to the groups, such as mean, sum, count, or custom functions.\n",
    "\n",
    "3. `drop()`: This function allows you to remove rows or columns from a DataFrame. You can specify the axis (0 for rows, 1 for columns), and the labels of the rows or columns to be removed."
   ]
  },
  {
   "cell_type": "code",
   "execution_count": 26,
   "id": "613f793d-4324-4a83-82f5-e957e37e4815",
   "metadata": {},
   "outputs": [
    {
     "name": "stdout",
     "output_type": "stream",
     "text": [
      "     Name  Age  Gender\n",
      "0   Alice   25  Female\n",
      "1     Bob   30    Male\n",
      "2  Claire   27  Female\n",
      "         Age\n",
      "Gender      \n",
      "Female  26.0\n",
      "Male    30.0\n",
      "     Name  Age\n",
      "0   Alice   25\n",
      "1     Bob   30\n",
      "2  Claire   27\n"
     ]
    },
    {
     "name": "stderr",
     "output_type": "stream",
     "text": [
      "/tmp/ipykernel_77/1934990736.py:3: FutureWarning: The default value of numeric_only in DataFrameGroupBy.mean is deprecated. In a future version, numeric_only will default to False. Either specify numeric_only or select only columns which should be valid for the function.\n",
      "  group = data_df.groupby('Gender').mean()\n"
     ]
    }
   ],
   "source": [
    "#Example : \n",
    "print(data_df.head())\n",
    "group = data_df.groupby('Gender').mean()\n",
    "print(group)\n",
    "df = data_df.drop('Gender', axis=1)\n",
    "print(df)"
   ]
  },
  {
   "cell_type": "markdown",
   "id": "b930768f-083f-460b-9255-e41c726f09a6",
   "metadata": {},
   "source": [
    "#### Q6. Which of the following is mutable in nature Series, DataFrame, Panel?\n",
    "\n",
    "A `Series` is mutable in nature, while a DataFrame and Panel are mutable in certain ways, but not entirely.\n",
    "\n",
    "In a Series, you can modify individual elements by index, and you can add or remove elements.\n",
    "```\n",
    "s = pd.Series([1, 2, 3])\n",
    "\n",
    "# modify an element by index\n",
    "s[1] = 4\n",
    "\n",
    "# add an element\n",
    "s[3] = 5\n",
    "\n",
    "# remove an element\n",
    "s = s.drop(2)\n",
    "```\n",
    "\n",
    "In a `DataFrame`, you can modify individual elements or entire columns by index, but you cannot add or remove columns directly (you can only drop them). For example:\n",
    "```\n",
    "data = {'A': [1, 2, 3], 'B': [4, 5, 6], 'C': [7, 8, 9]}\n",
    "df = pd.DataFrame(data)\n",
    "\n",
    "# modify an element by index\n",
    "df.loc[1, 'B'] = 10\n",
    "\n",
    "# modify an entire column by index\n",
    "df['C'] = [10, 11, 12]\n",
    "\n",
    "# drop a column\n",
    "df = df.drop('A', axis=1)\n",
    "```\n",
    "\n",
    "In a `Panel`, you can modify individual elements or entire panels by index, but you cannot add or remove panels directly (you can only drop them)\n"
   ]
  },
  {
   "cell_type": "code",
   "execution_count": 29,
   "id": "16d367e8-563d-4a5c-99af-19677a831323",
   "metadata": {},
   "outputs": [
    {
     "data": {
      "text/html": [
       "<div>\n",
       "<style scoped>\n",
       "    .dataframe tbody tr th:only-of-type {\n",
       "        vertical-align: middle;\n",
       "    }\n",
       "\n",
       "    .dataframe tbody tr th {\n",
       "        vertical-align: top;\n",
       "    }\n",
       "\n",
       "    .dataframe thead th {\n",
       "        text-align: right;\n",
       "    }\n",
       "</style>\n",
       "<table border=\"1\" class=\"dataframe\">\n",
       "  <thead>\n",
       "    <tr style=\"text-align: right;\">\n",
       "      <th></th>\n",
       "      <th>Name</th>\n",
       "      <th>Age</th>\n",
       "      <th>Gender</th>\n",
       "    </tr>\n",
       "  </thead>\n",
       "  <tbody>\n",
       "    <tr>\n",
       "      <th>0</th>\n",
       "      <td>Aman</td>\n",
       "      <td>17</td>\n",
       "      <td>Male</td>\n",
       "    </tr>\n",
       "    <tr>\n",
       "      <th>1</th>\n",
       "      <td>Ahana</td>\n",
       "      <td>19</td>\n",
       "      <td>Female</td>\n",
       "    </tr>\n",
       "    <tr>\n",
       "      <th>2</th>\n",
       "      <td>Priya</td>\n",
       "      <td>21</td>\n",
       "      <td>Female</td>\n",
       "    </tr>\n",
       "  </tbody>\n",
       "</table>\n",
       "</div>"
      ],
      "text/plain": [
       "    Name  Age  Gender\n",
       "0   Aman   17    Male\n",
       "1  Ahana   19  Female\n",
       "2  Priya   21  Female"
      ]
     },
     "execution_count": 29,
     "metadata": {},
     "output_type": "execute_result"
    }
   ],
   "source": [
    "# Q7. Create a DataFrame using multiple Series. Explain with an example.\n",
    "\n",
    "name = pd.Series(['Aman', 'Ahana', 'Priya'])\n",
    "age = pd.Series([17,19,21])\n",
    "gender = pd.Series(['Male', 'Female', 'Female'])\n",
    "\n",
    "data = {\n",
    "    'Name':name, 'Age':age , 'Gender':gender\n",
    "}\n",
    "pd.DataFrame(data)"
   ]
  },
  {
   "cell_type": "markdown",
   "id": "c23b0196-f9f3-43fd-a738-86eb41630f6e",
   "metadata": {},
   "source": [
    "In this example, we create three `Series` objects: name, age, and gender. We then create a dictionary called data with three keys (Name, Age, and Gender) and their corresponding Series as values. Finally, we create a DataFrame object called df by passing the data dictionary to the `pd.DataFrame()` constructor.\n",
    "\n",
    "The resulting DataFrame has three columns (Name, Age, and Gender) and three rows of data, one for each person."
   ]
  },
  {
   "cell_type": "code",
   "execution_count": null,
   "id": "32194b36-3af2-40de-9eaf-a341a151c2ae",
   "metadata": {},
   "outputs": [],
   "source": []
  }
 ],
 "metadata": {
  "kernelspec": {
   "display_name": "Python 3 (ipykernel)",
   "language": "python",
   "name": "python3"
  },
  "language_info": {
   "codemirror_mode": {
    "name": "ipython",
    "version": 3
   },
   "file_extension": ".py",
   "mimetype": "text/x-python",
   "name": "python",
   "nbconvert_exporter": "python",
   "pygments_lexer": "ipython3",
   "version": "3.10.8"
  }
 },
 "nbformat": 4,
 "nbformat_minor": 5
}
